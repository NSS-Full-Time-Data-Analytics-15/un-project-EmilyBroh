{
 "cells": [
  {
   "cell_type": "code",
   "execution_count": 1214,
   "id": "36e3294d-7c9a-4a56-9b29-68d572f53a5f",
   "metadata": {},
   "outputs": [],
   "source": [
    "import pandas as pd"
   ]
  },
  {
   "cell_type": "code",
   "execution_count": 1216,
   "id": "9b77b16b-c84c-483d-ab89-16413186fbb9",
   "metadata": {},
   "outputs": [],
   "source": [
    "import numpy as np"
   ]
  },
  {
   "cell_type": "code",
   "execution_count": 1218,
   "id": "153150a6-6513-4294-bf12-5fbc205323bc",
   "metadata": {},
   "outputs": [],
   "source": [
    "import matplotlib.pyplot as plt"
   ]
  },
  {
   "cell_type": "code",
   "execution_count": 1220,
   "id": "e45ecb82-11cb-485f-87b7-15c7a1b8d71a",
   "metadata": {},
   "outputs": [],
   "source": [
    "import seaborn as sns"
   ]
  },
  {
   "cell_type": "code",
   "execution_count": 24,
   "id": "00ee432c-28ff-4682-a600-cf168c234437",
   "metadata": {},
   "outputs": [],
   "source": [
    "gdp_df = pd.read_csv('../data/gdp_percapita.csv')"
   ]
  },
  {
   "cell_type": "code",
   "execution_count": 25,
   "id": "d4215b25-7ef8-4ae3-a6f8-a5e279a20414",
   "metadata": {},
   "outputs": [
    {
     "data": {
      "text/html": [
       "<div>\n",
       "<style scoped>\n",
       "    .dataframe tbody tr th:only-of-type {\n",
       "        vertical-align: middle;\n",
       "    }\n",
       "\n",
       "    .dataframe tbody tr th {\n",
       "        vertical-align: top;\n",
       "    }\n",
       "\n",
       "    .dataframe thead th {\n",
       "        text-align: right;\n",
       "    }\n",
       "</style>\n",
       "<table border=\"1\" class=\"dataframe\">\n",
       "  <thead>\n",
       "    <tr style=\"text-align: right;\">\n",
       "      <th></th>\n",
       "      <th>Country or Area</th>\n",
       "      <th>Year</th>\n",
       "      <th>Value</th>\n",
       "      <th>Value Footnotes</th>\n",
       "    </tr>\n",
       "  </thead>\n",
       "  <tbody>\n",
       "    <tr>\n",
       "      <th>0</th>\n",
       "      <td>Afghanistan</td>\n",
       "      <td>2023</td>\n",
       "      <td>1992.424394</td>\n",
       "      <td>NaN</td>\n",
       "    </tr>\n",
       "    <tr>\n",
       "      <th>1</th>\n",
       "      <td>Afghanistan</td>\n",
       "      <td>2022</td>\n",
       "      <td>1981.710168</td>\n",
       "      <td>NaN</td>\n",
       "    </tr>\n",
       "  </tbody>\n",
       "</table>\n",
       "</div>"
      ],
      "text/plain": [
       "  Country or Area  Year        Value  Value Footnotes\n",
       "0     Afghanistan  2023  1992.424394              NaN\n",
       "1     Afghanistan  2022  1981.710168              NaN"
      ]
     },
     "execution_count": 25,
     "metadata": {},
     "output_type": "execute_result"
    }
   ],
   "source": [
    "gdp_df.head(2)"
   ]
  },
  {
   "cell_type": "code",
   "execution_count": 29,
   "id": "93a4b0be-26e8-45c3-91d8-fc9f63da430b",
   "metadata": {},
   "outputs": [
    {
     "data": {
      "text/plain": [
       "(8219, 4)"
      ]
     },
     "execution_count": 29,
     "metadata": {},
     "output_type": "execute_result"
    }
   ],
   "source": [
    "gdp_df.shape"
   ]
  },
  {
   "cell_type": "markdown",
   "id": "f45424a5-993f-4181-ab91-434f42843753",
   "metadata": {},
   "source": [
    "#5. There are 8,219 rows and 4 columns. They're all coded as data type 'object'."
   ]
  },
  {
   "cell_type": "code",
   "execution_count": 32,
   "id": "7f950062-2fa1-46b7-9bf9-99cc3ed95d70",
   "metadata": {},
   "outputs": [
    {
     "data": {
      "text/plain": [
       "Index(['Country or Area', 'Year', 'Value', 'Value Footnotes'], dtype='object')"
      ]
     },
     "execution_count": 32,
     "metadata": {},
     "output_type": "execute_result"
    }
   ],
   "source": [
    "gdp_df.columns"
   ]
  },
  {
   "cell_type": "code",
   "execution_count": 34,
   "id": "53921499-fdb9-446e-a6b9-fe0c2a1ae3e3",
   "metadata": {},
   "outputs": [],
   "source": [
    "gdp_df2 = gdp_df.drop(columns = ['Value Footnotes'])"
   ]
  },
  {
   "cell_type": "code",
   "execution_count": 36,
   "id": "ec9d89e2-47ea-4f43-8012-c9c7212073b0",
   "metadata": {},
   "outputs": [],
   "source": [
    "gdp_df2.columns = ['country', 'year', 'GDP_per_capita']"
   ]
  },
  {
   "cell_type": "markdown",
   "id": "8e1b981c-ef1f-4d62-a6c0-b2ff7adaeb55",
   "metadata": {},
   "source": [
    "#6. Syntax above"
   ]
  },
  {
   "cell_type": "code",
   "execution_count": 39,
   "id": "0056d98d-a624-4654-aca7-963c8585464d",
   "metadata": {},
   "outputs": [
    {
     "data": {
      "text/plain": [
       "Country or Area    8219\n",
       "Year               8219\n",
       "Value              8219\n",
       "Value Footnotes       0\n",
       "dtype: int64"
      ]
     },
     "execution_count": 39,
     "metadata": {},
     "output_type": "execute_result"
    }
   ],
   "source": [
    "gdp_df.count()"
   ]
  },
  {
   "cell_type": "code",
   "execution_count": 41,
   "id": "19b43fc1-a2f7-418b-a836-d477cfdfe4ee",
   "metadata": {},
   "outputs": [
    {
     "data": {
      "text/html": [
       "<div>\n",
       "<style scoped>\n",
       "    .dataframe tbody tr th:only-of-type {\n",
       "        vertical-align: middle;\n",
       "    }\n",
       "\n",
       "    .dataframe tbody tr th {\n",
       "        vertical-align: top;\n",
       "    }\n",
       "\n",
       "    .dataframe thead th {\n",
       "        text-align: right;\n",
       "    }\n",
       "</style>\n",
       "<table border=\"1\" class=\"dataframe\">\n",
       "  <thead>\n",
       "    <tr style=\"text-align: right;\">\n",
       "      <th></th>\n",
       "      <th>Country or Area</th>\n",
       "      <th>Year</th>\n",
       "      <th>Value</th>\n",
       "      <th>Value Footnotes</th>\n",
       "    </tr>\n",
       "  </thead>\n",
       "  <tbody>\n",
       "    <tr>\n",
       "      <th>0</th>\n",
       "      <td>False</td>\n",
       "      <td>False</td>\n",
       "      <td>False</td>\n",
       "      <td>True</td>\n",
       "    </tr>\n",
       "    <tr>\n",
       "      <th>1</th>\n",
       "      <td>False</td>\n",
       "      <td>False</td>\n",
       "      <td>False</td>\n",
       "      <td>True</td>\n",
       "    </tr>\n",
       "    <tr>\n",
       "      <th>2</th>\n",
       "      <td>False</td>\n",
       "      <td>False</td>\n",
       "      <td>False</td>\n",
       "      <td>True</td>\n",
       "    </tr>\n",
       "    <tr>\n",
       "      <th>3</th>\n",
       "      <td>False</td>\n",
       "      <td>False</td>\n",
       "      <td>False</td>\n",
       "      <td>True</td>\n",
       "    </tr>\n",
       "    <tr>\n",
       "      <th>4</th>\n",
       "      <td>False</td>\n",
       "      <td>False</td>\n",
       "      <td>False</td>\n",
       "      <td>True</td>\n",
       "    </tr>\n",
       "    <tr>\n",
       "      <th>...</th>\n",
       "      <td>...</td>\n",
       "      <td>...</td>\n",
       "      <td>...</td>\n",
       "      <td>...</td>\n",
       "    </tr>\n",
       "    <tr>\n",
       "      <th>8214</th>\n",
       "      <td>False</td>\n",
       "      <td>False</td>\n",
       "      <td>False</td>\n",
       "      <td>True</td>\n",
       "    </tr>\n",
       "    <tr>\n",
       "      <th>8215</th>\n",
       "      <td>False</td>\n",
       "      <td>False</td>\n",
       "      <td>False</td>\n",
       "      <td>True</td>\n",
       "    </tr>\n",
       "    <tr>\n",
       "      <th>8216</th>\n",
       "      <td>False</td>\n",
       "      <td>False</td>\n",
       "      <td>False</td>\n",
       "      <td>True</td>\n",
       "    </tr>\n",
       "    <tr>\n",
       "      <th>8217</th>\n",
       "      <td>False</td>\n",
       "      <td>False</td>\n",
       "      <td>False</td>\n",
       "      <td>True</td>\n",
       "    </tr>\n",
       "    <tr>\n",
       "      <th>8218</th>\n",
       "      <td>False</td>\n",
       "      <td>False</td>\n",
       "      <td>False</td>\n",
       "      <td>True</td>\n",
       "    </tr>\n",
       "  </tbody>\n",
       "</table>\n",
       "<p>8219 rows × 4 columns</p>\n",
       "</div>"
      ],
      "text/plain": [
       "      Country or Area   Year  Value  Value Footnotes\n",
       "0               False  False  False             True\n",
       "1               False  False  False             True\n",
       "2               False  False  False             True\n",
       "3               False  False  False             True\n",
       "4               False  False  False             True\n",
       "...               ...    ...    ...              ...\n",
       "8214            False  False  False             True\n",
       "8215            False  False  False             True\n",
       "8216            False  False  False             True\n",
       "8217            False  False  False             True\n",
       "8218            False  False  False             True\n",
       "\n",
       "[8219 rows x 4 columns]"
      ]
     },
     "execution_count": 41,
     "metadata": {},
     "output_type": "execute_result"
    }
   ],
   "source": [
    "gdp_df.isna()"
   ]
  },
  {
   "cell_type": "code",
   "execution_count": 43,
   "id": "a5806e3d-a696-40d1-af7b-75642f129bc8",
   "metadata": {},
   "outputs": [
    {
     "data": {
      "text/plain": [
       "<bound method DataFrame.info of      Country or Area  Year        Value  Value Footnotes\n",
       "0        Afghanistan  2023  1992.424394              NaN\n",
       "1        Afghanistan  2022  1981.710168              NaN\n",
       "2        Afghanistan  2021  2144.166570              NaN\n",
       "3        Afghanistan  2020  2769.685745              NaN\n",
       "4        Afghanistan  2019  2927.245144              NaN\n",
       "...              ...   ...          ...              ...\n",
       "8214        Zimbabwe  1994  3965.730986              NaN\n",
       "8215        Zimbabwe  1993  3634.750494              NaN\n",
       "8216        Zimbabwe  1992  3649.891947              NaN\n",
       "8217        Zimbabwe  1991  4126.405247              NaN\n",
       "8218        Zimbabwe  1990  4013.299059              NaN\n",
       "\n",
       "[8219 rows x 4 columns]>"
      ]
     },
     "execution_count": 43,
     "metadata": {},
     "output_type": "execute_result"
    }
   ],
   "source": [
    "gdp_df.info"
   ]
  },
  {
   "cell_type": "code",
   "execution_count": 45,
   "id": "9b229ca6-afbf-4c30-ba14-09cd89e743f4",
   "metadata": {},
   "outputs": [
    {
     "data": {
      "text/plain": [
       "8219"
      ]
     },
     "execution_count": 45,
     "metadata": {},
     "output_type": "execute_result"
    }
   ],
   "source": [
    "gdp_df2.country.count()"
   ]
  },
  {
   "cell_type": "markdown",
   "id": "c5d28f58-48ce-4b2d-8dc8-8faca47fd355",
   "metadata": {},
   "source": [
    "Well, I misread the question, but I concluded that all rows have attributed countries."
   ]
  },
  {
   "cell_type": "code",
   "execution_count": 48,
   "id": "835dce7a-00f7-4e01-b88f-1755c4491e40",
   "metadata": {},
   "outputs": [
    {
     "data": {
      "text/plain": [
       "<bound method Series.info of 0       2023\n",
       "1       2022\n",
       "2       2021\n",
       "3       2020\n",
       "4       2019\n",
       "        ... \n",
       "8214    1994\n",
       "8215    1993\n",
       "8216    1992\n",
       "8217    1991\n",
       "8218    1990\n",
       "Name: year, Length: 8219, dtype: int64>"
      ]
     },
     "execution_count": 48,
     "metadata": {},
     "output_type": "execute_result"
    }
   ],
   "source": [
    "gdp_df2.year.info"
   ]
  },
  {
   "cell_type": "markdown",
   "id": "c9268f89-ff60-4517-804d-d45085b547a0",
   "metadata": {},
   "source": [
    "#7. So, I can see here that the years go from 1990 through 2022."
   ]
  },
  {
   "cell_type": "code",
   "execution_count": 51,
   "id": "b320fad9-0a9e-4ff8-9046-0fb95c746377",
   "metadata": {},
   "outputs": [
    {
     "data": {
      "text/plain": [
       "<bound method Series.isna of 0       2023\n",
       "1       2022\n",
       "2       2021\n",
       "3       2020\n",
       "4       2019\n",
       "        ... \n",
       "8214    1994\n",
       "8215    1993\n",
       "8216    1992\n",
       "8217    1991\n",
       "8218    1990\n",
       "Name: year, Length: 8219, dtype: int64>"
      ]
     },
     "execution_count": 51,
     "metadata": {},
     "output_type": "execute_result"
    }
   ],
   "source": [
    "gdp_df2.year.isna"
   ]
  },
  {
   "cell_type": "code",
   "execution_count": 53,
   "id": "9e8aaa23-f389-473c-90f6-8ab0f555f9ea",
   "metadata": {},
   "outputs": [
    {
     "data": {
      "text/plain": [
       "<bound method Series.unique of 0       Afghanistan\n",
       "1       Afghanistan\n",
       "2       Afghanistan\n",
       "3       Afghanistan\n",
       "4       Afghanistan\n",
       "           ...     \n",
       "8214       Zimbabwe\n",
       "8215       Zimbabwe\n",
       "8216       Zimbabwe\n",
       "8217       Zimbabwe\n",
       "8218       Zimbabwe\n",
       "Name: country, Length: 8219, dtype: object>"
      ]
     },
     "execution_count": 53,
     "metadata": {},
     "output_type": "execute_result"
    }
   ],
   "source": [
    "gdp_df2.country.unique"
   ]
  },
  {
   "cell_type": "code",
   "execution_count": 117,
   "id": "54a3e704-4e97-4643-835c-792c29a6fd0f",
   "metadata": {},
   "outputs": [
    {
     "data": {
      "text/plain": [
       "country            247\n",
       "year                34\n",
       "GDP_per_capita    8174\n",
       "dtype: int64"
      ]
     },
     "execution_count": 117,
     "metadata": {},
     "output_type": "execute_result"
    }
   ],
   "source": [
    "gdp_df2.nunique()"
   ]
  },
  {
   "cell_type": "markdown",
   "id": "19bb7c00-68c7-4d1c-8412-18541e30db7e",
   "metadata": {},
   "source": [
    "Okay so there are 247 unique countries and 34 unique years."
   ]
  },
  {
   "cell_type": "code",
   "execution_count": 119,
   "id": "8a154b68-18d2-4958-a572-cff0fc2e69cd",
   "metadata": {
    "scrolled": true
   },
   "outputs": [],
   "source": [
    "cc = gdp_df2['country'].value_counts()"
   ]
  },
  {
   "cell_type": "code",
   "execution_count": 123,
   "id": "6744f145-b859-4bef-acad-6e84769385e5",
   "metadata": {},
   "outputs": [
    {
     "data": {
      "text/plain": [
       "country\n",
       "Latvia                       34\n",
       "North America                34\n",
       "Mongolia                     34\n",
       "Morocco                      34\n",
       "Mozambique                   34\n",
       "                             ..\n",
       "Faroe Islands                16\n",
       "Kosovo                       16\n",
       "Sint Maarten (Dutch part)    15\n",
       "Turks and Caicos Islands     13\n",
       "Djibouti                     11\n",
       "Name: count, Length: 247, dtype: int64"
      ]
     },
     "execution_count": 123,
     "metadata": {},
     "output_type": "execute_result"
    }
   ],
   "source": [
    "cc"
   ]
  },
  {
   "cell_type": "code",
   "execution_count": 125,
   "id": "5296dbff-218b-491f-bb7a-2c4baaad4726",
   "metadata": {},
   "outputs": [],
   "source": [
    "less = cc[cc < 34]"
   ]
  },
  {
   "cell_type": "markdown",
   "id": "2e0cb919-f015-4998-8e30-5078cd3aff90",
   "metadata": {},
   "source": [
    "less"
   ]
  },
  {
   "cell_type": "code",
   "execution_count": 128,
   "id": "20d425d5-e9cd-4e8d-989e-2ae4b0308258",
   "metadata": {},
   "outputs": [
    {
     "data": {
      "text/plain": [
       "19"
      ]
     },
     "execution_count": 128,
     "metadata": {},
     "output_type": "execute_result"
    }
   ],
   "source": [
    "less.count()"
   ]
  },
  {
   "cell_type": "code",
   "execution_count": 130,
   "id": "5a9ee02a-0a3e-425c-a159-e45ca3358684",
   "metadata": {},
   "outputs": [
    {
     "data": {
      "text/plain": [
       "228"
      ]
     },
     "execution_count": 130,
     "metadata": {},
     "output_type": "execute_result"
    }
   ],
   "source": [
    "247-19"
   ]
  },
  {
   "cell_type": "code",
   "execution_count": 132,
   "id": "83456df6-32e7-487b-b0bf-36a9b920b0d9",
   "metadata": {
    "scrolled": true
   },
   "outputs": [
    {
     "data": {
      "text/plain": [
       "country\n",
       "Bhutan                       33\n",
       "Syrian Arab Republic         33\n",
       "Somalia                      33\n",
       "Tonga                        33\n",
       "Lebanon                      33\n",
       "Greenland                    32\n",
       "West Bank and Gaza           30\n",
       "Serbia                       29\n",
       "Montenegro                   27\n",
       "San Marino                   26\n",
       "CuraÃ§ao                     24\n",
       "Afghanistan                  24\n",
       "Virgin Islands               21\n",
       "Cayman Islands               18\n",
       "Faroe Islands                16\n",
       "Kosovo                       16\n",
       "Sint Maarten (Dutch part)    15\n",
       "Turks and Caicos Islands     13\n",
       "Djibouti                     11\n",
       "Name: count, dtype: int64"
      ]
     },
     "execution_count": 132,
     "metadata": {},
     "output_type": "execute_result"
    }
   ],
   "source": [
    "less"
   ]
  },
  {
   "cell_type": "markdown",
   "id": "4f8c6121-f14c-4815-92b4-42333496f274",
   "metadata": {},
   "source": [
    "#7 There are 228 countries that appear in all 34 years. There are 19 countries that do not. The list of the 19 can be seen above."
   ]
  },
  {
   "cell_type": "code",
   "execution_count": 72,
   "id": "2f8968fb-0f5a-44de-9672-170feece147e",
   "metadata": {},
   "outputs": [
    {
     "data": {
      "text/plain": [
       "<pandas.core.groupby.generic.DataFrameGroupBy object at 0x0000025F0926F590>"
      ]
     },
     "execution_count": 72,
     "metadata": {},
     "output_type": "execute_result"
    }
   ],
   "source": [
    "gdp_df2.groupby(['year'])"
   ]
  },
  {
   "cell_type": "markdown",
   "id": "3624e19a-81fa-4343-bdb9-7d36c0a4fcbe",
   "metadata": {},
   "source": [
    "8. In this question, you're going to create some plots to show the distribution of GDP per capita for the year 2020. Create a histogram, a density plot, a boxplot, and a violin plot. What do you notice when you look at these plots? How do the plots compare and what information can you get out of one type that you can't necessarily get out of the others?"
   ]
  },
  {
   "cell_type": "code",
   "execution_count": 157,
   "id": "dca52df3-4b47-4e71-9752-b73f27c85091",
   "metadata": {},
   "outputs": [
    {
     "data": {
      "text/plain": [
       "Index(['country', 'year', 'GDP_per_capita'], dtype='object')"
      ]
     },
     "execution_count": 157,
     "metadata": {},
     "output_type": "execute_result"
    }
   ],
   "source": [
    "gdp_df2.columns"
   ]
  },
  {
   "cell_type": "code",
   "execution_count": 326,
   "id": "9bc5d83e-d78e-4b1a-a074-433160ab1600",
   "metadata": {},
   "outputs": [
    {
     "data": {
      "image/png": "[encoded data removed]",
      "text/plain": [
       "<Figure size 700x500 with 1 Axes>"
      ]
     },
     "metadata": {},
     "output_type": "display_data"
    }
   ],
   "source": [
    "df_2020 = gdp_df2[gdp_df2['year'] == 2020]\n",
    "df_2020['GDP_per_capita'].hist(bins = 15, color = 'lightgreen', edgecolor = 'black', figsize = (7,5))\n",
    "plt.title('Distribution of GDP per Capita in 2020', fontsize = 16, font = 'calibri');"
   ]
  },
  {
   "cell_type": "markdown",
   "id": "e50113c7-78d7-483d-9072-396eeb2bd5a3",
   "metadata": {},
   "source": [
    "Histogram above ^"
   ]
  },
  {
   "cell_type": "code",
   "execution_count": 335,
   "id": "724ba6b5-3053-4332-b7a0-2a4995073aa8",
   "metadata": {},
   "outputs": [
    {
     "data": {
      "image/png": "[encoded data removed]",
      "text/plain": [
       "<Figure size 640x480 with 1 Axes>"
      ]
     },
     "metadata": {},
     "output_type": "display_data"
    }
   ],
   "source": [
    "df_2020 = gdp_df2[gdp_df2['year'] == 2020]\n",
    "sns.kdeplot(df_2020['GDP_per_capita'], color = 'lightgreen')\n",
    "plt.title('Distribution of GDP per Capita in 2020', fontsize = 16, font = 'calibri');"
   ]
  },
  {
   "cell_type": "markdown",
   "id": "f5a4c9c8-9aaa-4ff8-9cc7-336867509ee1",
   "metadata": {},
   "source": [
    "Density plot above ^"
   ]
  },
  {
   "cell_type": "code",
   "execution_count": 321,
   "id": "0e890e49-6ec3-441d-9de3-3eefacf8f7ea",
   "metadata": {},
   "outputs": [
    {
     "data": {
      "image/png": "[encoded data removed]",
      "text/plain": [
       "<Figure size 1500x400 with 1 Axes>"
      ]
     },
     "metadata": {},
     "output_type": "display_data"
    }
   ],
   "source": [
    "df_2020 = gdp_df2[gdp_df2['year'] == 2020]\n",
    "plt.figure(figsize = (15,4))\n",
    "sns.boxplot(df_2020,  x= 'GDP_per_capita', color = 'lightgreen')\n",
    "plt.title('Distribution of GDP per Capita in 2020', fontsize = 16, font = 'calibri');"
   ]
  },
  {
   "cell_type": "markdown",
   "id": "29e81cc2-ad54-4df2-82e7-9eb1ea788d38",
   "metadata": {},
   "source": [
    "8. Boxplot above ^\n",
    "   "
   ]
  },
  {
   "cell_type": "code",
   "execution_count": 402,
   "id": "0e2c4045-8072-4a88-85c9-d462959baab7",
   "metadata": {},
   "outputs": [
    {
     "data": {
      "image/png": "[encoded data removed]",
      "text/plain": [
       "<Figure size 640x480 with 1 Axes>"
      ]
     },
     "metadata": {},
     "output_type": "display_data"
    }
   ],
   "source": [
    "df_2020 = gdp_df2[gdp_df2[\"year\"] == 2020]\n",
    "sns.violinplot( x=df_2020[\"year\"], y=df_2020[\"GDP_per_capita\"], data=df_2020, color = 'lightgreen')\n",
    "plt.title('Distribution of GDP per Capita in 2020', fontsize = 16, font = 'calibri');"
   ]
  },
  {
   "cell_type": "markdown",
   "id": "10816ab8-59c8-4d11-b5d8-8460aa6c1883",
   "metadata": {},
   "source": [
    "Violin plot above ^"
   ]
  },
  {
   "cell_type": "markdown",
   "id": "28bec746-01bc-4129-b843-edb563fa11da",
   "metadata": {},
   "source": [
    "8 follow up questions: What do you notice when you look at these? How do the plots compare and what information can you get out of one type that you can't necessarily others?"
   ]
  },
  {
   "cell_type": "markdown",
   "id": "21d00c34-4b2d-4f9a-bac2-fb3dbe76a2c0",
   "metadata": {},
   "source": [
    "9. What was the median GDP per capita value in 2020?"
   ]
  },
  {
   "cell_type": "code",
   "execution_count": 410,
   "id": "83b86df9-20f1-493c-9e03-5fac647d4724",
   "metadata": {},
   "outputs": [
    {
     "data": {
      "text/plain": [
       "15309.23598817024"
      ]
     },
     "execution_count": 410,
     "metadata": {},
     "output_type": "execute_result"
    }
   ],
   "source": [
    "df_2020 = gdp_df2[gdp_df2[\"year\"] == 2020]\n",
    "df_2020['GDP_per_capita'].median()\n"
   ]
  },
  {
   "cell_type": "markdown",
   "id": "931d35a5-1e70-4023-a44a-ae5deb40e1c2",
   "metadata": {},
   "source": [
    "9. The median was $15,309.24"
   ]
  },
  {
   "cell_type": "markdown",
   "id": "29fd7ce6-80f6-4f91-8fb0-cdf6b4b07439",
   "metadata": {},
   "source": [
    "For this question, you're going to create some visualizations to compare GDP per capita values for the years 1990, 2000, 2010, and 2020. Start by subsetting your data to just these 4 years into a new DataFrame named gdp_decades. Using this, create the following 4 plots:\n",
    "\t* A boxplot\n",
    "\t* A barplot (check out the Barplot with Seaborn section: https://www.python-graph-gallery.com/barplot/#Seaborn)\n",
    "\t* A scatterplot\n",
    "\t* A scatterplot with a trend line overlaid (see this regplot example: https://www.python-graph-gallery.com/42-custom-linear-regression-fit-seaborn)  \n",
    "Comment on what you observe has happened to GDP values over time and the relative strengths and weaknesses of each type of plot."
   ]
  },
  {
   "cell_type": "code",
   "execution_count": 477,
   "id": "3d172123-0bbd-4379-b719-da8c9caec5b3",
   "metadata": {},
   "outputs": [
    {
     "name": "stdout",
     "output_type": "stream",
     "text": [
      "                          country  year  GDP_per_capita\n",
      "57    Africa Eastern and Southern  1990     3386.854480\n",
      "91     Africa Western and Central  1990     3299.401375\n",
      "125                       Albania  1990     5327.747458\n",
      "159                       Algeria  1990    11728.545729\n",
      "193                       Andorra  1990    50036.300776\n",
      "...                           ...   ...             ...\n",
      "8068               Virgin Islands  2020    45055.782930\n",
      "8090           West Bank and Gaza  2020     5423.682547\n",
      "8120                        World  2020    18600.986362\n",
      "8154                       Zambia  2020     3391.595412\n",
      "8188                     Zimbabwe  2020     2987.269823\n",
      "\n",
      "[965 rows x 3 columns]\n"
     ]
    }
   ],
   "source": [
    "df_1990 = gdp_df2[gdp_df2[\"year\"] == 1990]\n",
    "df_2000 = gdp_df2[gdp_df2[\"year\"] == 2000]\n",
    "df_2010 = gdp_df2[gdp_df2[\"year\"] == 2010]\n",
    "df_2020 = gdp_df2[gdp_df2[\"year\"] == 2020]\n",
    "\n",
    "decades = pd.concat([df_1990, df_2000, df_2010, df_2020])\n",
    "\n",
    "print(decades)"
   ]
  },
  {
   "cell_type": "code",
   "execution_count": 541,
   "id": "9621704f-f314-42d1-8d61-253dfaedd46d",
   "metadata": {},
   "outputs": [
    {
     "data": {
      "text/plain": [
       "<Axes: xlabel='GDP_per_capita'>"
      ]
     },
     "execution_count": 541,
     "metadata": {},
     "output_type": "execute_result"
    },
    {
     "data": {
      "image/png": "[encoded data removed]",
      "text/plain": [
       "<Figure size 640x480 with 1 Axes>"
      ]
     },
     "metadata": {},
     "output_type": "display_data"
    }
   ],
   "source": [
    "df_1990 = gdp_df2[gdp_df2[\"year\"] == 1990]\n",
    "df_2000 = gdp_df2[gdp_df2[\"year\"] == 2000]\n",
    "df_2010 = gdp_df2[gdp_df2[\"year\"] == 2010]\n",
    "df_2020 = gdp_df2[gdp_df2[\"year\"] == 2020]\n",
    "\n",
    "decades = pd.concat([df_1990, df_2000, df_2010, df_2020])\n",
    "\n",
    "scaled = df_2020.GDP_per_capita / 100\n",
    "\n",
    "sns.boxplot(data = decades, x = 'GDP_per_capita', color = 'teal')"
   ]
  },
  {
   "cell_type": "markdown",
   "id": "9d5861b2-1de8-40e7-b4c3-ca60cdaad3ee",
   "metadata": {},
   "source": [
    "* At some point I want to go back and see if I can make a chart with a scaled down GDP, which is why I created the variable above that I have yet to use."
   ]
  },
  {
   "cell_type": "markdown",
   "id": "e3859bdc-0306-4793-a87f-6b687eaddeea",
   "metadata": {},
   "source": [
    "Boxplot above ^"
   ]
  },
  {
   "cell_type": "code",
   "execution_count": 539,
   "id": "45f92264-9840-4655-8e5e-d198b10bde13",
   "metadata": {},
   "outputs": [
    {
     "data": {
      "image/png": "[encoded data removed]",
      "text/plain": [
       "<Figure size 640x480 with 1 Axes>"
      ]
     },
     "metadata": {},
     "output_type": "display_data"
    }
   ],
   "source": [
    "sns.barplot(x = 'year', y = 'GDP_per_capita', data = decades, color = 'teal')\n",
    "plt.title('Distribution of GDP per Capita in 2020', fontsize = 16, font = 'calibri');"
   ]
  },
  {
   "cell_type": "markdown",
   "id": "2a629780-b183-435d-83c2-024cf667ab83",
   "metadata": {},
   "source": [
    "Barplot above ^"
   ]
  },
  {
   "cell_type": "code",
   "execution_count": 598,
   "id": "ed5ac54f-c84f-4507-9bad-8592790cde03",
   "metadata": {},
   "outputs": [
    {
     "data": {
      "image/png": "[encoded data removed]",
      "text/plain": [
       "<Figure size 640x480 with 1 Axes>"
      ]
     },
     "metadata": {},
     "output_type": "display_data"
    }
   ],
   "source": [
    "sns.scatterplot(x = 'year', y = 'GDP_per_capita', data = decades, color = 'teal')\n",
    "plt.title('Distribution of GDP per Capita in 2020', fontsize = 16, font = 'calibri');"
   ]
  },
  {
   "cell_type": "code",
   "execution_count": 572,
   "id": "92713b04-b284-4bd7-a6ab-119d94dcce7b",
   "metadata": {},
   "outputs": [
    {
     "name": "stdout",
     "output_type": "stream",
     "text": [
      "                          country  year  GDP_per_capita\n",
      "3                     Afghanistan  2020     2769.685745\n",
      "27    Africa Eastern and Southern  2020     3861.111238\n",
      "61     Africa Western and Central  2020     4622.731427\n",
      "95                        Albania  2020    14650.395929\n",
      "129                       Algeria  2020    14194.155748\n",
      "...                           ...   ...             ...\n",
      "8068               Virgin Islands  2020    45055.782930\n",
      "8090           West Bank and Gaza  2020     5423.682547\n",
      "8120                        World  2020    18600.986362\n",
      "8154                       Zambia  2020     3391.595412\n",
      "8188                     Zimbabwe  2020     2987.269823\n",
      "\n",
      "[247 rows x 3 columns]\n"
     ]
    }
   ],
   "source": [
    "print(df_2020)"
   ]
  },
  {
   "cell_type": "code",
   "execution_count": 637,
   "id": "32ddf589-7de0-4a05-bc65-31c97c9db7b7",
   "metadata": {},
   "outputs": [
    {
     "data": {
      "image/png": "[encoded data removed]",
      "text/plain": [
       "<Figure size 1800x700 with 1 Axes>"
      ]
     },
     "metadata": {},
     "output_type": "display_data"
    }
   ],
   "source": [
    "gdp_decades = decades\n",
    "\n",
    "fig, ax = plt.subplots(figsize=(18, 7))\n",
    "sns.regplot(\n",
    "    x=gdp_decades[\"year\"],\n",
    "    y=gdp_decades[\"GDP_per_capita\"],\n",
    "    line_kws={\"color\": \"black\", \"linewidth\": 2.5},\n",
    "    ax=ax,\n",
    "    color = 'teal'\n",
    ")\n",
    "plt.show()"
   ]
  },
  {
   "cell_type": "markdown",
   "id": "4f470eb3-346a-4d9b-ab42-54e79f621f15",
   "metadata": {},
   "source": [
    "Comment on what you observe has happened to GDP values over time and the relative strengths and weaknesses of each type of plot."
   ]
  },
  {
   "cell_type": "markdown",
   "id": "96730e18-de23-40a3-9a64-c30cd0521346",
   "metadata": {},
   "source": [
    "11. Which country was the first to have a GDP per capita greater than $100,000?"
   ]
  },
  {
   "cell_type": "code",
   "execution_count": 640,
   "id": "c4fd62b1-3707-4103-bd78-daba23230efb",
   "metadata": {},
   "outputs": [
    {
     "data": {
      "text/plain": [
       "Index(['country', 'year', 'GDP_per_capita'], dtype='object')"
      ]
     },
     "execution_count": 640,
     "metadata": {},
     "output_type": "execute_result"
    }
   ],
   "source": [
    "gdp_df2.columns"
   ]
  },
  {
   "cell_type": "code",
   "execution_count": 674,
   "id": "0226c2bd-58fd-4f68-8a04-becdf5b5a727",
   "metadata": {},
   "outputs": [
    {
     "name": "stdout",
     "output_type": "stream",
     "text": [
      "750     2011\n",
      "751     2010\n",
      "752     2009\n",
      "753     2008\n",
      "754     2007\n",
      "        ... \n",
      "7821    1996\n",
      "7822    1995\n",
      "7825    1992\n",
      "7826    1991\n",
      "7827    1990\n",
      "Name: year, Length: 106, dtype: int64\n"
     ]
    }
   ],
   "source": [
    "print(minyr)"
   ]
  },
  {
   "cell_type": "code",
   "execution_count": 676,
   "id": "37527da4-6647-4723-980c-fdf19fa3e675",
   "metadata": {},
   "outputs": [
    {
     "data": {
      "text/plain": [
       "1990"
      ]
     },
     "execution_count": 676,
     "metadata": {},
     "output_type": "execute_result"
    }
   ],
   "source": [
    "minyr.min()"
   ]
  },
  {
   "cell_type": "code",
   "execution_count": 711,
   "id": "a8d6c45c-da01-4a86-847c-d18485395ea9",
   "metadata": {},
   "outputs": [],
   "source": [
    "gt100 = gdp_df2.loc[gdp_df2['GDP_per_capita'] > 100000]"
   ]
  },
  {
   "cell_type": "code",
   "execution_count": 684,
   "id": "8c6ab7b6-2ef8-433a-bf9e-e87984e59ebc",
   "metadata": {},
   "outputs": [
    {
     "name": "stdout",
     "output_type": "stream",
     "text": [
      "                   country  year  GDP_per_capita\n",
      "750                Bermuda  2011   101174.504104\n",
      "751                Bermuda  2010   105121.639689\n",
      "752                Bermuda  2009   108091.644563\n",
      "753                Bermuda  2008   115015.749469\n",
      "754                Bermuda  2007   117742.118950\n",
      "...                    ...   ...             ...\n",
      "7821  United Arab Emirates  1996   100563.698291\n",
      "7822  United Arab Emirates  1995   101412.082063\n",
      "7825  United Arab Emirates  1992   101100.487512\n",
      "7826  United Arab Emirates  1991   103098.537132\n",
      "7827  United Arab Emirates  1990   108057.042464\n",
      "\n",
      "[106 rows x 3 columns]\n"
     ]
    }
   ],
   "source": [
    "print(gt100)"
   ]
  },
  {
   "cell_type": "code",
   "execution_count": 688,
   "id": "73a12b8a-0a43-4e8a-b770-30e0a7f1a040",
   "metadata": {},
   "outputs": [
    {
     "data": {
      "text/html": [
       "<div>\n",
       "<style scoped>\n",
       "    .dataframe tbody tr th:only-of-type {\n",
       "        vertical-align: middle;\n",
       "    }\n",
       "\n",
       "    .dataframe tbody tr th {\n",
       "        vertical-align: top;\n",
       "    }\n",
       "\n",
       "    .dataframe thead th {\n",
       "        text-align: right;\n",
       "    }\n",
       "</style>\n",
       "<table border=\"1\" class=\"dataframe\">\n",
       "  <thead>\n",
       "    <tr style=\"text-align: right;\">\n",
       "      <th></th>\n",
       "      <th>country</th>\n",
       "      <th>year</th>\n",
       "      <th>GDP_per_capita</th>\n",
       "    </tr>\n",
       "  </thead>\n",
       "  <tbody>\n",
       "    <tr>\n",
       "      <th>7827</th>\n",
       "      <td>United Arab Emirates</td>\n",
       "      <td>1990</td>\n",
       "      <td>108057.042464</td>\n",
       "    </tr>\n",
       "    <tr>\n",
       "      <th>974</th>\n",
       "      <td>Brunei</td>\n",
       "      <td>1990</td>\n",
       "      <td>118163.683198</td>\n",
       "    </tr>\n",
       "    <tr>\n",
       "      <th>7826</th>\n",
       "      <td>United Arab Emirates</td>\n",
       "      <td>1991</td>\n",
       "      <td>103098.537132</td>\n",
       "    </tr>\n",
       "    <tr>\n",
       "      <th>973</th>\n",
       "      <td>Brunei</td>\n",
       "      <td>1991</td>\n",
       "      <td>118220.683619</td>\n",
       "    </tr>\n",
       "    <tr>\n",
       "      <th>7825</th>\n",
       "      <td>United Arab Emirates</td>\n",
       "      <td>1992</td>\n",
       "      <td>101100.487512</td>\n",
       "    </tr>\n",
       "    <tr>\n",
       "      <th>...</th>\n",
       "      <td>...</td>\n",
       "      <td>...</td>\n",
       "      <td>...</td>\n",
       "    </tr>\n",
       "    <tr>\n",
       "      <th>6116</th>\n",
       "      <td>Qatar</td>\n",
       "      <td>2023</td>\n",
       "      <td>116159.142559</td>\n",
       "    </tr>\n",
       "    <tr>\n",
       "      <th>4457</th>\n",
       "      <td>Macao SAR, China</td>\n",
       "      <td>2023</td>\n",
       "      <td>104961.643485</td>\n",
       "    </tr>\n",
       "    <tr>\n",
       "      <th>6511</th>\n",
       "      <td>Singapore</td>\n",
       "      <td>2023</td>\n",
       "      <td>127543.554752</td>\n",
       "    </tr>\n",
       "    <tr>\n",
       "      <th>4423</th>\n",
       "      <td>Luxembourg</td>\n",
       "      <td>2023</td>\n",
       "      <td>130373.477942</td>\n",
       "    </tr>\n",
       "    <tr>\n",
       "      <th>3490</th>\n",
       "      <td>Ireland</td>\n",
       "      <td>2023</td>\n",
       "      <td>115401.125283</td>\n",
       "    </tr>\n",
       "  </tbody>\n",
       "</table>\n",
       "<p>106 rows × 3 columns</p>\n",
       "</div>"
      ],
      "text/plain": [
       "                   country  year  GDP_per_capita\n",
       "7827  United Arab Emirates  1990   108057.042464\n",
       "974                 Brunei  1990   118163.683198\n",
       "7826  United Arab Emirates  1991   103098.537132\n",
       "973                 Brunei  1991   118220.683619\n",
       "7825  United Arab Emirates  1992   101100.487512\n",
       "...                    ...   ...             ...\n",
       "6116                 Qatar  2023   116159.142559\n",
       "4457      Macao SAR, China  2023   104961.643485\n",
       "6511             Singapore  2023   127543.554752\n",
       "4423            Luxembourg  2023   130373.477942\n",
       "3490               Ireland  2023   115401.125283\n",
       "\n",
       "[106 rows x 3 columns]"
      ]
     },
     "execution_count": 688,
     "metadata": {},
     "output_type": "execute_result"
    }
   ],
   "source": [
    "gt100.sort_values('year', ascending = True)"
   ]
  },
  {
   "cell_type": "code",
   "execution_count": null,
   "id": "f7b893a6-f331-4211-a3af-165511957df3",
   "metadata": {},
   "outputs": [],
   "source": [
    "gdp_df2.isin"
   ]
  },
  {
   "cell_type": "markdown",
   "id": "05e91b8d-eb43-4ba2-8a32-287427a7c758",
   "metadata": {},
   "source": [
    "11. United Arab Emirates was the first country to have a GDP per capita greater than $100,000. They had $108,057.04 in 1990."
   ]
  },
  {
   "cell_type": "markdown",
   "id": "e212ab89-9285-473e-98f2-535c5c47e390",
   "metadata": {},
   "source": [
    "---side note: I need to figure out why the formatting is acting strange in the answer to #11 above ^"
   ]
  },
  {
   "cell_type": "markdown",
   "id": "f2af36d2-d2cb-4605-9712-137d84d18d50",
   "metadata": {},
   "source": [
    "12. Which country had the highest GDP per capita in 2020?\n",
    "    12a. Create a plot showing how this country's GDP per capita has changed over \n",
    "the timespan of the dataset."
   ]
  },
  {
   "cell_type": "code",
   "execution_count": 715,
   "id": "74a15ee9-f069-4691-917a-bcf01cef3357",
   "metadata": {},
   "outputs": [
    {
     "data": {
      "text/html": [
       "<div>\n",
       "<style scoped>\n",
       "    .dataframe tbody tr th:only-of-type {\n",
       "        vertical-align: middle;\n",
       "    }\n",
       "\n",
       "    .dataframe tbody tr th {\n",
       "        vertical-align: top;\n",
       "    }\n",
       "\n",
       "    .dataframe thead th {\n",
       "        text-align: right;\n",
       "    }\n",
       "</style>\n",
       "<table border=\"1\" class=\"dataframe\">\n",
       "  <thead>\n",
       "    <tr style=\"text-align: right;\">\n",
       "      <th></th>\n",
       "      <th>country</th>\n",
       "      <th>year</th>\n",
       "      <th>GDP_per_capita</th>\n",
       "    </tr>\n",
       "  </thead>\n",
       "  <tbody>\n",
       "    <tr>\n",
       "      <th>4426</th>\n",
       "      <td>Luxembourg</td>\n",
       "      <td>2020</td>\n",
       "      <td>128256.560341</td>\n",
       "    </tr>\n",
       "    <tr>\n",
       "      <th>6514</th>\n",
       "      <td>Singapore</td>\n",
       "      <td>2020</td>\n",
       "      <td>115304.149459</td>\n",
       "    </tr>\n",
       "    <tr>\n",
       "      <th>6119</th>\n",
       "      <td>Qatar</td>\n",
       "      <td>2020</td>\n",
       "      <td>103061.913414</td>\n",
       "    </tr>\n",
       "    <tr>\n",
       "      <th>3493</th>\n",
       "      <td>Ireland</td>\n",
       "      <td>2020</td>\n",
       "      <td>102989.787335</td>\n",
       "    </tr>\n",
       "    <tr>\n",
       "      <th>741</th>\n",
       "      <td>Bermuda</td>\n",
       "      <td>2020</td>\n",
       "      <td>87894.401174</td>\n",
       "    </tr>\n",
       "    <tr>\n",
       "      <th>...</th>\n",
       "      <td>...</td>\n",
       "      <td>...</td>\n",
       "      <td>...</td>\n",
       "    </tr>\n",
       "    <tr>\n",
       "      <th>5133</th>\n",
       "      <td>Mozambique</td>\n",
       "      <td>2020</td>\n",
       "      <td>1466.124765</td>\n",
       "    </tr>\n",
       "    <tr>\n",
       "      <th>6699</th>\n",
       "      <td>Somalia</td>\n",
       "      <td>2020</td>\n",
       "      <td>1396.053436</td>\n",
       "    </tr>\n",
       "    <tr>\n",
       "      <th>1734</th>\n",
       "      <td>Dem. Rep. Congo</td>\n",
       "      <td>2020</td>\n",
       "      <td>1277.632863</td>\n",
       "    </tr>\n",
       "    <tr>\n",
       "      <th>1302</th>\n",
       "      <td>Central African Republic</td>\n",
       "      <td>2020</td>\n",
       "      <td>1136.570530</td>\n",
       "    </tr>\n",
       "    <tr>\n",
       "      <th>1046</th>\n",
       "      <td>Burundi</td>\n",
       "      <td>2020</td>\n",
       "      <td>833.920257</td>\n",
       "    </tr>\n",
       "  </tbody>\n",
       "</table>\n",
       "<p>247 rows × 3 columns</p>\n",
       "</div>"
      ],
      "text/plain": [
       "                       country  year  GDP_per_capita\n",
       "4426                Luxembourg  2020   128256.560341\n",
       "6514                 Singapore  2020   115304.149459\n",
       "6119                     Qatar  2020   103061.913414\n",
       "3493                   Ireland  2020   102989.787335\n",
       "741                    Bermuda  2020    87894.401174\n",
       "...                        ...   ...             ...\n",
       "5133                Mozambique  2020     1466.124765\n",
       "6699                   Somalia  2020     1396.053436\n",
       "1734           Dem. Rep. Congo  2020     1277.632863\n",
       "1302  Central African Republic  2020     1136.570530\n",
       "1046                   Burundi  2020      833.920257\n",
       "\n",
       "[247 rows x 3 columns]"
      ]
     },
     "execution_count": 715,
     "metadata": {},
     "output_type": "execute_result"
    }
   ],
   "source": [
    "df_2020.sort_values('GDP_per_capita', ascending = False)"
   ]
  },
  {
   "cell_type": "markdown",
   "id": "e1ac4b60-f7d1-4f84-ae46-aac6561a3c5f",
   "metadata": {},
   "source": [
    "12. Luxembourg had the highest GDP per capita in 2020, with a value of $128,256.56."
   ]
  },
  {
   "cell_type": "markdown",
   "id": "ab3c7bf5-f780-4cd4-951d-4de75f7cbb0b",
   "metadata": {},
   "source": [
    " 12a. Create a plot showing how this country's GDP per capita has changed over \n",
    "the timespan of the dataset."
   ]
  },
  {
   "cell_type": "markdown",
   "id": "c764e342-38f6-41cb-a4ce-bba56fcf0944",
   "metadata": {},
   "source": [
    "sns.scatterplot(x = cou"
   ]
  },
  {
   "cell_type": "code",
   "execution_count": 733,
   "id": "eb983060-167c-452b-9e4b-3633d26146af",
   "metadata": {},
   "outputs": [],
   "source": [
    "lux = gdp_df2[gdp_df2['country'].isin(['Luxembourg'])]"
   ]
  },
  {
   "cell_type": "code",
   "execution_count": 785,
   "id": "19b2b9d8-f981-43b4-854d-9c622c1f900f",
   "metadata": {},
   "outputs": [
    {
     "data": {
      "image/png": "[encoded data removed]",
      "text/plain": [
       "<Figure size 640x480 with 1 Axes>"
      ]
     },
     "metadata": {},
     "output_type": "display_data"
    }
   ],
   "source": [
    "sns.scatterplot(x = lux['year'], y = lux['GDP_per_capita'], color = 'teal')\n",
    "plt.title('Luxembourg: Distribution of GDP per Capita (1990-2020)', fontsize = 16, font = 'calibri');"
   ]
  },
  {
   "cell_type": "markdown",
   "id": "f290591b-9628-45e2-bea4-74ddcc2182f3",
   "metadata": {},
   "source": [
    "12. Scatterplot above ^"
   ]
  },
  {
   "cell_type": "markdown",
   "id": "4cf01f79-9561-4b6d-846a-7b08780ca558",
   "metadata": {},
   "source": [
    "13. Which country had the lowest GDP per capita in 2020? Create a plot showing how this country's GDP per capita has changed over the timespan of the dataset."
   ]
  },
  {
   "cell_type": "code",
   "execution_count": 801,
   "id": "6234c3e4-9122-4661-9898-6aed71f1c6b2",
   "metadata": {},
   "outputs": [
    {
     "data": {
      "text/html": [
       "<div>\n",
       "<style scoped>\n",
       "    .dataframe tbody tr th:only-of-type {\n",
       "        vertical-align: middle;\n",
       "    }\n",
       "\n",
       "    .dataframe tbody tr th {\n",
       "        vertical-align: top;\n",
       "    }\n",
       "\n",
       "    .dataframe thead th {\n",
       "        text-align: right;\n",
       "    }\n",
       "</style>\n",
       "<table border=\"1\" class=\"dataframe\">\n",
       "  <thead>\n",
       "    <tr style=\"text-align: right;\">\n",
       "      <th></th>\n",
       "      <th>country</th>\n",
       "      <th>year</th>\n",
       "      <th>GDP_per_capita</th>\n",
       "    </tr>\n",
       "  </thead>\n",
       "  <tbody>\n",
       "    <tr>\n",
       "      <th>1046</th>\n",
       "      <td>Burundi</td>\n",
       "      <td>2020</td>\n",
       "      <td>833.920257</td>\n",
       "    </tr>\n",
       "    <tr>\n",
       "      <th>1302</th>\n",
       "      <td>Central African Republic</td>\n",
       "      <td>2020</td>\n",
       "      <td>1136.570530</td>\n",
       "    </tr>\n",
       "    <tr>\n",
       "      <th>1734</th>\n",
       "      <td>Dem. Rep. Congo</td>\n",
       "      <td>2020</td>\n",
       "      <td>1277.632863</td>\n",
       "    </tr>\n",
       "    <tr>\n",
       "      <th>6699</th>\n",
       "      <td>Somalia</td>\n",
       "      <td>2020</td>\n",
       "      <td>1396.053436</td>\n",
       "    </tr>\n",
       "    <tr>\n",
       "      <th>5133</th>\n",
       "      <td>Mozambique</td>\n",
       "      <td>2020</td>\n",
       "      <td>1466.124765</td>\n",
       "    </tr>\n",
       "    <tr>\n",
       "      <th>...</th>\n",
       "      <td>...</td>\n",
       "      <td>...</td>\n",
       "      <td>...</td>\n",
       "    </tr>\n",
       "    <tr>\n",
       "      <th>741</th>\n",
       "      <td>Bermuda</td>\n",
       "      <td>2020</td>\n",
       "      <td>87894.401174</td>\n",
       "    </tr>\n",
       "    <tr>\n",
       "      <th>3493</th>\n",
       "      <td>Ireland</td>\n",
       "      <td>2020</td>\n",
       "      <td>102989.787335</td>\n",
       "    </tr>\n",
       "    <tr>\n",
       "      <th>6119</th>\n",
       "      <td>Qatar</td>\n",
       "      <td>2020</td>\n",
       "      <td>103061.913414</td>\n",
       "    </tr>\n",
       "    <tr>\n",
       "      <th>6514</th>\n",
       "      <td>Singapore</td>\n",
       "      <td>2020</td>\n",
       "      <td>115304.149459</td>\n",
       "    </tr>\n",
       "    <tr>\n",
       "      <th>4426</th>\n",
       "      <td>Luxembourg</td>\n",
       "      <td>2020</td>\n",
       "      <td>128256.560341</td>\n",
       "    </tr>\n",
       "  </tbody>\n",
       "</table>\n",
       "<p>247 rows × 3 columns</p>\n",
       "</div>"
      ],
      "text/plain": [
       "                       country  year  GDP_per_capita\n",
       "1046                   Burundi  2020      833.920257\n",
       "1302  Central African Republic  2020     1136.570530\n",
       "1734           Dem. Rep. Congo  2020     1277.632863\n",
       "6699                   Somalia  2020     1396.053436\n",
       "5133                Mozambique  2020     1466.124765\n",
       "...                        ...   ...             ...\n",
       "741                    Bermuda  2020    87894.401174\n",
       "3493                   Ireland  2020   102989.787335\n",
       "6119                     Qatar  2020   103061.913414\n",
       "6514                 Singapore  2020   115304.149459\n",
       "4426                Luxembourg  2020   128256.560341\n",
       "\n",
       "[247 rows x 3 columns]"
      ]
     },
     "execution_count": 801,
     "metadata": {},
     "output_type": "execute_result"
    }
   ],
   "source": [
    "df_2020.sort_values('GDP_per_capita', ascending = True)"
   ]
  },
  {
   "cell_type": "markdown",
   "id": "f75cd156-7aa5-4ef7-aebf-c166a7259b9e",
   "metadata": {},
   "source": [
    "13. Burundi had the lowest GDP per capita in 2020 with a value of $833.92."
   ]
  },
  {
   "cell_type": "code",
   "execution_count": 781,
   "id": "4bff3e24-0606-4863-bd12-b874d2f0a8e6",
   "metadata": {},
   "outputs": [],
   "source": [
    "bur = gdp_df2[gdp_df2['country'].isin(['Burundi'])]"
   ]
  },
  {
   "cell_type": "code",
   "execution_count": 803,
   "id": "dff5fe39-6310-4986-b4c7-06f21cfa351c",
   "metadata": {},
   "outputs": [
    {
     "data": {
      "image/png": "[encoded data removed]",
      "text/plain": [
       "<Figure size 640x480 with 1 Axes>"
      ]
     },
     "metadata": {},
     "output_type": "display_data"
    }
   ],
   "source": [
    "sns.scatterplot(x = bur['year'], y = bur['GDP_per_capita'], color = 'teal')\n",
    "plt.title('Burundi: Distribution of GDP per Capita (1990-2020)', fontsize = 16, font = 'calibri');"
   ]
  },
  {
   "cell_type": "markdown",
   "id": "45148e40-0f3a-4488-a1ad-059de2a63f6e",
   "metadata": {},
   "source": [
    "13. Scatterplot above ^"
   ]
  },
  {
   "cell_type": "markdown",
   "id": "92519cf0-387c-4d76-8781-7ed1a71381bc",
   "metadata": {},
   "source": [
    "**Bonus question:** Is it true in general that coutries had a higher GDP per capita in 2020 than in 1990? Which countries had lower GDP per capita in 2020 than in 1990?"
   ]
  },
  {
   "cell_type": "markdown",
   "id": "213d1054-d9cb-46b1-b96e-e7cc9a66d409",
   "metadata": {},
   "source": [
    "14. Read in the internet use dataset into a DataFrame named `internet_df`. You will likely get errors when doing this. Check the arguments for the read_csv function to find ones that can help correct the errors (https://pandas.pydata.org/docs/reference/api/pandas.read_csv.html) Once you are able to read it in, take per a look at the top and bottom few rows to make sure that it has been read in correctly. Also, check the datatypes of the columns."
   ]
  },
  {
   "cell_type": "markdown",
   "id": "ae1f8b52-1678-45ce-bd36-55e21d2be29a",
   "metadata": {},
   "source": [
    "internet_df = pd.read_csv('../data/internet_use.csv')"
   ]
  },
  {
   "cell_type": "code",
   "execution_count": 819,
   "id": "3320b3f5-c7b4-4819-b37d-9a34e9ce03d9",
   "metadata": {},
   "outputs": [
    {
     "ename": "ParserError",
     "evalue": "Error tokenizing data. C error: Expected 4 fields in line 6378, saw 6\n",
     "output_type": "error",
     "traceback": [
      "\u001b[1;31m---------------------------------------------------------------------------\u001b[0m",
      "\u001b[1;31mParserError\u001b[0m                               Traceback (most recent call last)",
      "Cell \u001b[1;32mIn[819], line 1\u001b[0m\n\u001b[1;32m----> 1\u001b[0m internet_df \u001b[38;5;241m=\u001b[39m pd\u001b[38;5;241m.\u001b[39mread_csv(\u001b[38;5;124m'\u001b[39m\u001b[38;5;124m../data/internet_use.csv\u001b[39m\u001b[38;5;124m'\u001b[39m)\n\u001b[0;32m      3\u001b[0m internet_df\u001b[38;5;241m.\u001b[39mdrop([\u001b[38;5;124m'\u001b[39m\u001b[38;5;124mJanuary 5, 2010\u001b[39m\u001b[38;5;124m'\u001b[39m, \u001b[38;5;124m'\u001b[39m\u001b[38;5;124mhttp://www.pewinternet.org/~/media//Files/Reports/2010/PIP_December09_update.pdf.\u001b[39m\u001b[38;5;124m'\u001b[39m], axis \u001b[38;5;241m=\u001b[39m \u001b[38;5;241m6378\u001b[39m, inplace \u001b[38;5;241m=\u001b[39m \u001b[38;5;28;01mTrue\u001b[39;00m)\n",
      "File \u001b[1;32m~\\anaconda3\\Lib\\site-packages\\pandas\\io\\parsers\\readers.py:1026\u001b[0m, in \u001b[0;36mread_csv\u001b[1;34m(filepath_or_buffer, sep, delimiter, header, names, index_col, usecols, dtype, engine, converters, true_values, false_values, skipinitialspace, skiprows, skipfooter, nrows, na_values, keep_default_na, na_filter, verbose, skip_blank_lines, parse_dates, infer_datetime_format, keep_date_col, date_parser, date_format, dayfirst, cache_dates, iterator, chunksize, compression, thousands, decimal, lineterminator, quotechar, quoting, doublequote, escapechar, comment, encoding, encoding_errors, dialect, on_bad_lines, delim_whitespace, low_memory, memory_map, float_precision, storage_options, dtype_backend)\u001b[0m\n\u001b[0;32m   1013\u001b[0m kwds_defaults \u001b[38;5;241m=\u001b[39m _refine_defaults_read(\n\u001b[0;32m   1014\u001b[0m     dialect,\n\u001b[0;32m   1015\u001b[0m     delimiter,\n\u001b[1;32m   (...)\u001b[0m\n\u001b[0;32m   1022\u001b[0m     dtype_backend\u001b[38;5;241m=\u001b[39mdtype_backend,\n\u001b[0;32m   1023\u001b[0m )\n\u001b[0;32m   1024\u001b[0m kwds\u001b[38;5;241m.\u001b[39mupdate(kwds_defaults)\n\u001b[1;32m-> 1026\u001b[0m \u001b[38;5;28;01mreturn\u001b[39;00m _read(filepath_or_buffer, kwds)\n",
      "File \u001b[1;32m~\\anaconda3\\Lib\\site-packages\\pandas\\io\\parsers\\readers.py:626\u001b[0m, in \u001b[0;36m_read\u001b[1;34m(filepath_or_buffer, kwds)\u001b[0m\n\u001b[0;32m    623\u001b[0m     \u001b[38;5;28;01mreturn\u001b[39;00m parser\n\u001b[0;32m    625\u001b[0m \u001b[38;5;28;01mwith\u001b[39;00m parser:\n\u001b[1;32m--> 626\u001b[0m     \u001b[38;5;28;01mreturn\u001b[39;00m parser\u001b[38;5;241m.\u001b[39mread(nrows)\n",
      "File \u001b[1;32m~\\anaconda3\\Lib\\site-packages\\pandas\\io\\parsers\\readers.py:1923\u001b[0m, in \u001b[0;36mTextFileReader.read\u001b[1;34m(self, nrows)\u001b[0m\n\u001b[0;32m   1916\u001b[0m nrows \u001b[38;5;241m=\u001b[39m validate_integer(\u001b[38;5;124m\"\u001b[39m\u001b[38;5;124mnrows\u001b[39m\u001b[38;5;124m\"\u001b[39m, nrows)\n\u001b[0;32m   1917\u001b[0m \u001b[38;5;28;01mtry\u001b[39;00m:\n\u001b[0;32m   1918\u001b[0m     \u001b[38;5;66;03m# error: \"ParserBase\" has no attribute \"read\"\u001b[39;00m\n\u001b[0;32m   1919\u001b[0m     (\n\u001b[0;32m   1920\u001b[0m         index,\n\u001b[0;32m   1921\u001b[0m         columns,\n\u001b[0;32m   1922\u001b[0m         col_dict,\n\u001b[1;32m-> 1923\u001b[0m     ) \u001b[38;5;241m=\u001b[39m \u001b[38;5;28mself\u001b[39m\u001b[38;5;241m.\u001b[39m_engine\u001b[38;5;241m.\u001b[39mread(  \u001b[38;5;66;03m# type: ignore[attr-defined]\u001b[39;00m\n\u001b[0;32m   1924\u001b[0m         nrows\n\u001b[0;32m   1925\u001b[0m     )\n\u001b[0;32m   1926\u001b[0m \u001b[38;5;28;01mexcept\u001b[39;00m \u001b[38;5;167;01mException\u001b[39;00m:\n\u001b[0;32m   1927\u001b[0m     \u001b[38;5;28mself\u001b[39m\u001b[38;5;241m.\u001b[39mclose()\n",
      "File \u001b[1;32m~\\anaconda3\\Lib\\site-packages\\pandas\\io\\parsers\\c_parser_wrapper.py:234\u001b[0m, in \u001b[0;36mCParserWrapper.read\u001b[1;34m(self, nrows)\u001b[0m\n\u001b[0;32m    232\u001b[0m \u001b[38;5;28;01mtry\u001b[39;00m:\n\u001b[0;32m    233\u001b[0m     \u001b[38;5;28;01mif\u001b[39;00m \u001b[38;5;28mself\u001b[39m\u001b[38;5;241m.\u001b[39mlow_memory:\n\u001b[1;32m--> 234\u001b[0m         chunks \u001b[38;5;241m=\u001b[39m \u001b[38;5;28mself\u001b[39m\u001b[38;5;241m.\u001b[39m_reader\u001b[38;5;241m.\u001b[39mread_low_memory(nrows)\n\u001b[0;32m    235\u001b[0m         \u001b[38;5;66;03m# destructive to chunks\u001b[39;00m\n\u001b[0;32m    236\u001b[0m         data \u001b[38;5;241m=\u001b[39m _concatenate_chunks(chunks)\n",
      "File \u001b[1;32mparsers.pyx:838\u001b[0m, in \u001b[0;36mpandas._libs.parsers.TextReader.read_low_memory\u001b[1;34m()\u001b[0m\n",
      "File \u001b[1;32mparsers.pyx:905\u001b[0m, in \u001b[0;36mpandas._libs.parsers.TextReader._read_rows\u001b[1;34m()\u001b[0m\n",
      "File \u001b[1;32mparsers.pyx:874\u001b[0m, in \u001b[0;36mpandas._libs.parsers.TextReader._tokenize_rows\u001b[1;34m()\u001b[0m\n",
      "File \u001b[1;32mparsers.pyx:891\u001b[0m, in \u001b[0;36mpandas._libs.parsers.TextReader._check_tokenize_status\u001b[1;34m()\u001b[0m\n",
      "File \u001b[1;32mparsers.pyx:2061\u001b[0m, in \u001b[0;36mpandas._libs.parsers.raise_parser_error\u001b[1;34m()\u001b[0m\n",
      "\u001b[1;31mParserError\u001b[0m: Error tokenizing data. C error: Expected 4 fields in line 6378, saw 6\n"
     ]
    }
   ],
   "source": [
    "internet_df = pd.read_csv('../data/internet_use.csv')\n",
    "\n",
    "internet_df.drop(['January 5, 2010', 'http://www.pewinternet.org/~/media//Files/Reports/2010/PIP_December09_update.pdf.'], axis = 6378, inplace = True)"
   ]
  },
  {
   "cell_type": "code",
   "execution_count": 821,
   "id": "ce67b783-eb96-4fa9-ad0e-f9822bc06d2c",
   "metadata": {},
   "outputs": [
    {
     "ename": "AttributeError",
     "evalue": "module 'pandas' has no attribute 'read_txt'",
     "output_type": "error",
     "traceback": [
      "\u001b[1;31m---------------------------------------------------------------------------\u001b[0m",
      "\u001b[1;31mAttributeError\u001b[0m                            Traceback (most recent call last)",
      "Cell \u001b[1;32mIn[821], line 1\u001b[0m\n\u001b[1;32m----> 1\u001b[0m internet_df \u001b[38;5;241m=\u001b[39m pd\u001b[38;5;241m.\u001b[39mread_txt(\u001b[38;5;124m'\u001b[39m\u001b[38;5;124m../data/internet_use2.txt\u001b[39m\u001b[38;5;124m'\u001b[39m)\n",
      "\u001b[1;31mAttributeError\u001b[0m: module 'pandas' has no attribute 'read_txt'"
     ]
    }
   ],
   "source": [
    "internet_df = pd.read_txt('../data/internet_use2.txt')"
   ]
  },
  {
   "cell_type": "markdown",
   "id": "b384f47c-e574-4dc9-bac0-b5ef62f9ae56",
   "metadata": {},
   "source": [
    "internet_df = pd.read_csv('../data/internet_usecomma.csv', delimiter=\",\", quotechar='\"',  header=0)"
   ]
  },
  {
   "cell_type": "code",
   "execution_count": 1015,
   "id": "41df5a92-1610-4517-af80-faee5cfebbbb",
   "metadata": {},
   "outputs": [],
   "source": [
    "engine='python'\n",
    "internet_df = pd.read_csv('../data/internet_use2_1.csv', delimiter='\"')"
   ]
  },
  {
   "cell_type": "code",
   "execution_count": 1023,
   "id": "83b6f421-f042-40ac-91f2-dd89f6a724ba",
   "metadata": {},
   "outputs": [],
   "source": [
    "internet_df2 = pd.read_csv('../data/internet_usecomma.csv', delimiter = \",\")"
   ]
  },
  {
   "cell_type": "code",
   "execution_count": 1025,
   "id": "cea9cc04-9ad4-4ed8-894e-e154ae59b293",
   "metadata": {},
   "outputs": [
    {
     "data": {
      "text/plain": [
       "(6382, 1)"
      ]
     },
     "execution_count": 1025,
     "metadata": {},
     "output_type": "execute_result"
    }
   ],
   "source": [
    "internet_df2.shape"
   ]
  },
  {
   "cell_type": "code",
   "execution_count": 1031,
   "id": "0feedb5a-b2c1-4c96-bb60-b31aef57ba50",
   "metadata": {},
   "outputs": [
    {
     "data": {
      "text/plain": [
       "Index([',Country or Area,,,Year,,,Value,,,Value Footnotes,'], dtype='object')"
      ]
     },
     "execution_count": 1031,
     "metadata": {},
     "output_type": "execute_result"
    }
   ],
   "source": [
    "internet_df2.columns"
   ]
  },
  {
   "cell_type": "code",
   "execution_count": 1027,
   "id": "22e2e1e6-5af3-4b22-aae5-e0be3f0e647c",
   "metadata": {
    "scrolled": true
   },
   "outputs": [
    {
     "name": "stdout",
     "output_type": "stream",
     "text": [
      "     ,Country or Area,,,Year,,,Value,,,Value Footnotes,\n",
      "0                       ,Afghanistan,,,2019,,,17.6,,,1,\n",
      "1                       ,Afghanistan,,,2018,,,16.8,,,2,\n",
      "2                       ,Afghanistan,,,2017,,,13.5,,,3,\n",
      "3                         ,Afghanistan,,,2016,,,11,,,4,\n",
      "4                       ,Afghanistan,,,2015,,,8.26,,,4,\n",
      "...                                                 ...\n",
      "6377  ,293,,,Estimated based on Survey's results. Po...\n",
      "6378             ,294,,,Preliminary. Country estimate.,\n",
      "6379                         ,295,,,18+. ITU estimate.,\n",
      "6380             ,296,,,ICT survey. Population age 11+,\n",
      "6381  ,297,,,Internet users aged 3 years and above w...\n",
      "\n",
      "[6382 rows x 1 columns]\n"
     ]
    }
   ],
   "source": [
    "print(internet_df)"
   ]
  },
  {
   "cell_type": "code",
   "execution_count": 1029,
   "id": "025505c7-a850-4d8b-aa7d-66ba19839dc0",
   "metadata": {},
   "outputs": [
    {
     "ename": "AttributeError",
     "evalue": "'list' object has no attribute 'columns'",
     "output_type": "error",
     "traceback": [
      "\u001b[1;31m---------------------------------------------------------------------------\u001b[0m",
      "\u001b[1;31mAttributeError\u001b[0m                            Traceback (most recent call last)",
      "Cell \u001b[1;32mIn[1029], line 1\u001b[0m\n\u001b[1;32m----> 1\u001b[0m internet_df \u001b[38;5;241m=\u001b[39m internet_df\u001b[38;5;241m.\u001b[39mcolumns \u001b[38;5;241m=\u001b[39m [\u001b[38;5;124m\"\u001b[39m\u001b[38;5;124mCountry or Area\u001b[39m\u001b[38;5;124m\"\u001b[39m,\u001b[38;5;124m\"\u001b[39m\u001b[38;5;124mYear\u001b[39m\u001b[38;5;124m\"\u001b[39m,\u001b[38;5;124m\"\u001b[39m\u001b[38;5;124mValue\u001b[39m\u001b[38;5;124m\"\u001b[39m,\u001b[38;5;124m\"\u001b[39m\u001b[38;5;124mValue Footnotes\u001b[39m\u001b[38;5;124m\"\u001b[39m]\n",
      "\u001b[1;31mAttributeError\u001b[0m: 'list' object has no attribute 'columns'"
     ]
    }
   ],
   "source": [
    "internet_df = internet_df.columns = [\"Country or Area\",\"Year\",\"Value\",\"Value Footnotes\"]"
   ]
  },
  {
   "cell_type": "code",
   "execution_count": null,
   "id": "f9cbc33b-8d58-4642-96a4-8cfd3b9b5613",
   "metadata": {},
   "outputs": [],
   "source": []
  },
  {
   "cell_type": "code",
   "execution_count": 925,
   "id": "42190ded-4fba-4d27-9582-20c638264c23",
   "metadata": {},
   "outputs": [],
   "source": [
    "i2 = internet_df.reset_index(drop = False)"
   ]
  },
  {
   "cell_type": "code",
   "execution_count": 986,
   "id": "0b278a95-bc0c-46b8-b944-40727ea63519",
   "metadata": {},
   "outputs": [
    {
     "name": "stdout",
     "output_type": "stream",
     "text": [
      "      index \"Country or Area\",\"Year\",\"Value\",\"Value Footnotes\"\n",
      "0         0                    \"Afghanistan\",\"2019\",\"17.6\",\"1\"\n",
      "1         1                    \"Afghanistan\",\"2018\",\"16.8\",\"2\"\n",
      "2         2                    \"Afghanistan\",\"2017\",\"13.5\",\"3\"\n",
      "3         3                      \"Afghanistan\",\"2016\",\"11\",\"4\"\n",
      "4         4                    \"Afghanistan\",\"2015\",\"8.26\",\"4\"\n",
      "...     ...                                                ...\n",
      "6377   6377  \"293\",\"Estimated based on Survey's results. Po...\n",
      "6378   6378             \"294\",\"Preliminary. Country estimate.\"\n",
      "6379   6379                         \"295\",\"18+. ITU estimate.\"\n",
      "6380   6380             \"296\",\"ICT survey. Population age 11+\"\n",
      "6381   6381  \"297\",\"Internet users aged 3 years and above w...\n",
      "\n",
      "[6382 rows x 2 columns]\n"
     ]
    }
   ],
   "source": [
    "print(i2)"
   ]
  },
  {
   "cell_type": "code",
   "execution_count": 988,
   "id": "39cfc3d2-45bc-42cc-b13c-b88e927266e2",
   "metadata": {},
   "outputs": [],
   "source": [
    "i3 = i2.reset_index(drop = False)"
   ]
  },
  {
   "cell_type": "code",
   "execution_count": 990,
   "id": "795b9111-b8d2-4755-8fbd-660f3f7ee56d",
   "metadata": {},
   "outputs": [
    {
     "name": "stdout",
     "output_type": "stream",
     "text": [
      "      level_0  index \"Country or Area\",\"Year\",\"Value\",\"Value Footnotes\"\n",
      "0           0      0                    \"Afghanistan\",\"2019\",\"17.6\",\"1\"\n",
      "1           1      1                    \"Afghanistan\",\"2018\",\"16.8\",\"2\"\n",
      "2           2      2                    \"Afghanistan\",\"2017\",\"13.5\",\"3\"\n",
      "3           3      3                      \"Afghanistan\",\"2016\",\"11\",\"4\"\n",
      "4           4      4                    \"Afghanistan\",\"2015\",\"8.26\",\"4\"\n",
      "...       ...    ...                                                ...\n",
      "6377     6377   6377  \"293\",\"Estimated based on Survey's results. Po...\n",
      "6378     6378   6378             \"294\",\"Preliminary. Country estimate.\"\n",
      "6379     6379   6379                         \"295\",\"18+. ITU estimate.\"\n",
      "6380     6380   6380             \"296\",\"ICT survey. Population age 11+\"\n",
      "6381     6381   6381  \"297\",\"Internet users aged 3 years and above w...\n",
      "\n",
      "[6382 rows x 3 columns]\n"
     ]
    }
   ],
   "source": [
    "print(i3)"
   ]
  },
  {
   "cell_type": "code",
   "execution_count": 992,
   "id": "91454f42-6fed-4d87-882f-faf291f28f44",
   "metadata": {},
   "outputs": [],
   "source": [
    "i3.columns = [\"Country or Area\",\"Year\",\"Value\"]"
   ]
  },
  {
   "cell_type": "code",
   "execution_count": 994,
   "id": "7589f659-2aae-4bda-9e61-664e23d6c5f1",
   "metadata": {},
   "outputs": [
    {
     "name": "stdout",
     "output_type": "stream",
     "text": [
      "      Country or Area  Year                                              Value\n",
      "0                   0     0                    \"Afghanistan\",\"2019\",\"17.6\",\"1\"\n",
      "1                   1     1                    \"Afghanistan\",\"2018\",\"16.8\",\"2\"\n",
      "2                   2     2                    \"Afghanistan\",\"2017\",\"13.5\",\"3\"\n",
      "3                   3     3                      \"Afghanistan\",\"2016\",\"11\",\"4\"\n",
      "4                   4     4                    \"Afghanistan\",\"2015\",\"8.26\",\"4\"\n",
      "...               ...   ...                                                ...\n",
      "6377             6377  6377  \"293\",\"Estimated based on Survey's results. Po...\n",
      "6378             6378  6378             \"294\",\"Preliminary. Country estimate.\"\n",
      "6379             6379  6379                         \"295\",\"18+. ITU estimate.\"\n",
      "6380             6380  6380             \"296\",\"ICT survey. Population age 11+\"\n",
      "6381             6381  6381  \"297\",\"Internet users aged 3 years and above w...\n",
      "\n",
      "[6382 rows x 3 columns]\n"
     ]
    }
   ],
   "source": [
    "print(i3)"
   ]
  },
  {
   "cell_type": "markdown",
   "id": "e724db1f-51f5-4a80-8914-41f65db34118",
   "metadata": {},
   "source": [
    "*14. Alright, so I'm successfully able to import the CSV without error, however ideally I'd like the columns to be returned properly.  I tried\n",
    "    a few different methods without luck. If I have time, I'll come back to this to fix it."
   ]
  },
  {
   "cell_type": "code",
   "execution_count": 1071,
   "id": "be261858-d194-4ce4-8811-a946cfdb7a83",
   "metadata": {},
   "outputs": [
    {
     "ename": "SyntaxError",
     "evalue": "closing parenthesis ')' does not match opening parenthesis '[' (588354579.py, line 1)",
     "output_type": "error",
     "traceback": [
      "\u001b[1;36m  Cell \u001b[1;32mIn[1071], line 1\u001b[1;36m\u001b[0m\n\u001b[1;33m    iu.drop(['Unnamed:4', 'Unnamed:5', 'Unnamed:6', axis=1, inplace=True)]\u001b[0m\n\u001b[1;37m                                                                        ^\u001b[0m\n\u001b[1;31mSyntaxError\u001b[0m\u001b[1;31m:\u001b[0m closing parenthesis ')' does not match opening parenthesis '['\n"
     ]
    }
   ],
   "source": [
    "iu.drop(['Unnamed:4', 'Unnamed:5', 'Unnamed:6', axis=1, inplace=True)]"
   ]
  },
  {
   "cell_type": "code",
   "execution_count": 1057,
   "id": "798a0c9b-b68c-42bb-9d46-c4080f5d41c4",
   "metadata": {},
   "outputs": [
    {
     "name": "stdout",
     "output_type": "stream",
     "text": [
      "     Country or Area                                               Year Value  \\\n",
      "0        Afghanistan                                               2019  17.6   \n",
      "1        Afghanistan                                               2018  16.8   \n",
      "2        Afghanistan                                               2017  13.5   \n",
      "3        Afghanistan                                               2016    11   \n",
      "4        Afghanistan                                               2015  8.26   \n",
      "...              ...                                                ...   ...   \n",
      "6377             293  Estimated based on Survey's results. Populatio...   NaN   \n",
      "6378             294                     Preliminary. Country estimate.   NaN   \n",
      "6379             295                                 18+. ITU estimate.   NaN   \n",
      "6380             296                     ICT survey. Population age 11+   NaN   \n",
      "6381             297  Internet users aged 3 years and above who used...   NaN   \n",
      "\n",
      "     Value Footnotes Unnamed: 4 Unnamed: 5 Unnamed: 6  \n",
      "0                  1        NaN        NaN        NaN  \n",
      "1                  2        NaN        NaN        NaN  \n",
      "2                  3        NaN        NaN        NaN  \n",
      "3                  4        NaN        NaN        NaN  \n",
      "4                  4        NaN        NaN        NaN  \n",
      "...              ...        ...        ...        ...  \n",
      "6377             NaN        NaN        NaN        NaN  \n",
      "6378             NaN        NaN        NaN        NaN  \n",
      "6379             NaN        NaN        NaN        NaN  \n",
      "6380             NaN        NaN        NaN        NaN  \n",
      "6381             NaN        NaN        NaN        NaN  \n",
      "\n",
      "[6382 rows x 7 columns]\n"
     ]
    }
   ],
   "source": [
    "print(iu)"
   ]
  },
  {
   "cell_type": "code",
   "execution_count": 1073,
   "id": "ce430be2-cbd4-49a8-a1c2-a5ef9a42bdfe",
   "metadata": {},
   "outputs": [],
   "source": [
    "iu.drop(['Unnamed: 4', 'Unnamed: 5', 'Unnamed: 6'], axis=1, inplace=True)\n"
   ]
  },
  {
   "cell_type": "code",
   "execution_count": 1075,
   "id": "414944eb-84bb-4f92-a879-4ae9818998be",
   "metadata": {},
   "outputs": [
    {
     "name": "stdout",
     "output_type": "stream",
     "text": [
      "     Country or Area                                               Year Value  \\\n",
      "0        Afghanistan                                               2019  17.6   \n",
      "1        Afghanistan                                               2018  16.8   \n",
      "2        Afghanistan                                               2017  13.5   \n",
      "3        Afghanistan                                               2016    11   \n",
      "4        Afghanistan                                               2015  8.26   \n",
      "...              ...                                                ...   ...   \n",
      "6377             293  Estimated based on Survey's results. Populatio...   NaN   \n",
      "6378             294                     Preliminary. Country estimate.   NaN   \n",
      "6379             295                                 18+. ITU estimate.   NaN   \n",
      "6380             296                     ICT survey. Population age 11+   NaN   \n",
      "6381             297  Internet users aged 3 years and above who used...   NaN   \n",
      "\n",
      "     Value Footnotes  \n",
      "0                  1  \n",
      "1                  2  \n",
      "2                  3  \n",
      "3                  4  \n",
      "4                  4  \n",
      "...              ...  \n",
      "6377             NaN  \n",
      "6378             NaN  \n",
      "6379             NaN  \n",
      "6380             NaN  \n",
      "6381             NaN  \n",
      "\n",
      "[6382 rows x 4 columns]\n"
     ]
    }
   ],
   "source": [
    "print(iu)"
   ]
  },
  {
   "cell_type": "code",
   "execution_count": 1187,
   "id": "5e353e58-b24d-4458-870c-eaa7d499e854",
   "metadata": {},
   "outputs": [],
   "source": [
    "i_u = pd.read_csv('../data/internet_use.csv', nrows =6084)"
   ]
  },
  {
   "cell_type": "markdown",
   "id": "ae5c0bfa-980b-42a5-8532-d869da901555",
   "metadata": {},
   "source": [
    " 17.What is the first year to have a non-zero internet users percentage value?"
   ]
  },
  {
   "cell_type": "code",
   "execution_count": 1130,
   "id": "3114dd9f-e74a-4196-9fac-982aa137374e",
   "metadata": {},
   "outputs": [
    {
     "data": {
      "text/plain": [
       "0           2019\n",
       "1           2018\n",
       "2           2017\n",
       "3           2016\n",
       "4           2015\n",
       "          ...   \n",
       "6079        1996\n",
       "6080        1995\n",
       "6081        1994\n",
       "6082        1990\n",
       "6083    Footnote\n",
       "Name: Year, Length: 6084, dtype: object"
      ]
     },
     "execution_count": 1130,
     "metadata": {},
     "output_type": "execute_result"
    }
   ],
   "source": [
    "i_u.Year"
   ]
  },
  {
   "cell_type": "code",
   "execution_count": 1142,
   "id": "e9fb9ac5-e7bc-4084-b575-3cc385b67826",
   "metadata": {},
   "outputs": [],
   "source": [
    "az = i_u.loc[i_u['Value']> 0]"
   ]
  },
  {
   "cell_type": "code",
   "execution_count": 1181,
   "id": "534b8632-710e-472b-ad31-aa1e146e94e7",
   "metadata": {},
   "outputs": [],
   "source": [
    "az1 = i_u.loc[i_u['Value']>= 1]"
   ]
  },
  {
   "cell_type": "code",
   "execution_count": 1144,
   "id": "4f4f2ffa-b099-4c21-be5a-681ef92936cd",
   "metadata": {
    "scrolled": true
   },
   "outputs": [
    {
     "data": {
      "text/html": [
       "<div>\n",
       "<style scoped>\n",
       "    .dataframe tbody tr th:only-of-type {\n",
       "        vertical-align: middle;\n",
       "    }\n",
       "\n",
       "    .dataframe tbody tr th {\n",
       "        vertical-align: top;\n",
       "    }\n",
       "\n",
       "    .dataframe thead th {\n",
       "        text-align: right;\n",
       "    }\n",
       "</style>\n",
       "<table border=\"1\" class=\"dataframe\">\n",
       "  <thead>\n",
       "    <tr style=\"text-align: right;\">\n",
       "      <th></th>\n",
       "      <th>Country or Area</th>\n",
       "      <th>Year</th>\n",
       "      <th>Value</th>\n",
       "      <th>Value Footnotes</th>\n",
       "    </tr>\n",
       "  </thead>\n",
       "  <tbody>\n",
       "    <tr>\n",
       "      <th>1570</th>\n",
       "      <td>Denmark</td>\n",
       "      <td>1990</td>\n",
       "      <td>0.097277</td>\n",
       "      <td>4</td>\n",
       "    </tr>\n",
       "    <tr>\n",
       "      <th>2892</th>\n",
       "      <td>Japan</td>\n",
       "      <td>1990</td>\n",
       "      <td>0.020294</td>\n",
       "      <td>NaN</td>\n",
       "    </tr>\n",
       "    <tr>\n",
       "      <th>306</th>\n",
       "      <td>Australia</td>\n",
       "      <td>1990</td>\n",
       "      <td>0.585095</td>\n",
       "      <td>4</td>\n",
       "    </tr>\n",
       "    <tr>\n",
       "      <th>2034</th>\n",
       "      <td>France</td>\n",
       "      <td>1990</td>\n",
       "      <td>0.052778</td>\n",
       "      <td>4</td>\n",
       "    </tr>\n",
       "    <tr>\n",
       "      <th>339</th>\n",
       "      <td>Austria</td>\n",
       "      <td>1990</td>\n",
       "      <td>0.130369</td>\n",
       "      <td>NaN</td>\n",
       "    </tr>\n",
       "    <tr>\n",
       "      <th>...</th>\n",
       "      <td>...</td>\n",
       "      <td>...</td>\n",
       "      <td>...</td>\n",
       "      <td>...</td>\n",
       "    </tr>\n",
       "    <tr>\n",
       "      <th>427</th>\n",
       "      <td>Bangladesh</td>\n",
       "      <td>2023</td>\n",
       "      <td>44.502700</td>\n",
       "      <td>NaN</td>\n",
       "    </tr>\n",
       "    <tr>\n",
       "      <th>677</th>\n",
       "      <td>Bosnia and Herzegovina</td>\n",
       "      <td>2023</td>\n",
       "      <td>83.377200</td>\n",
       "      <td>NaN</td>\n",
       "    </tr>\n",
       "    <tr>\n",
       "      <th>1656</th>\n",
       "      <td>Ecuador</td>\n",
       "      <td>2023</td>\n",
       "      <td>72.694300</td>\n",
       "      <td>96</td>\n",
       "    </tr>\n",
       "    <tr>\n",
       "      <th>1537</th>\n",
       "      <td>Denmark</td>\n",
       "      <td>2023</td>\n",
       "      <td>98.775600</td>\n",
       "      <td>NaN</td>\n",
       "    </tr>\n",
       "    <tr>\n",
       "      <th>3057</th>\n",
       "      <td>Kuwait</td>\n",
       "      <td>2023</td>\n",
       "      <td>99.747300</td>\n",
       "      <td>NaN</td>\n",
       "    </tr>\n",
       "  </tbody>\n",
       "</table>\n",
       "<p>5803 rows × 4 columns</p>\n",
       "</div>"
      ],
      "text/plain": [
       "             Country or Area  Year      Value Value Footnotes\n",
       "1570                 Denmark  1990   0.097277               4\n",
       "2892                   Japan  1990   0.020294             NaN\n",
       "306                Australia  1990   0.585095               4\n",
       "2034                  France  1990   0.052778               4\n",
       "339                  Austria  1990   0.130369             NaN\n",
       "...                      ...   ...        ...             ...\n",
       "427               Bangladesh  2023  44.502700             NaN\n",
       "677   Bosnia and Herzegovina  2023  83.377200             NaN\n",
       "1656                 Ecuador  2023  72.694300              96\n",
       "1537                 Denmark  2023  98.775600             NaN\n",
       "3057                  Kuwait  2023  99.747300             NaN\n",
       "\n",
       "[5803 rows x 4 columns]"
      ]
     },
     "execution_count": 1144,
     "metadata": {},
     "output_type": "execute_result"
    }
   ],
   "source": [
    "az.sort_values('Year')"
   ]
  },
  {
   "cell_type": "code",
   "execution_count": 1279,
   "id": "67b1aaac-20bd-4afe-864c-e10909dc5215",
   "metadata": {},
   "outputs": [
    {
     "ename": "KeyError",
     "evalue": "\"['Value Footnotes'] not found in axis\"",
     "output_type": "error",
     "traceback": [
      "\u001b[1;31m---------------------------------------------------------------------------\u001b[0m",
      "\u001b[1;31mKeyError\u001b[0m                                  Traceback (most recent call last)",
      "Cell \u001b[1;32mIn[1279], line 1\u001b[0m\n\u001b[1;32m----> 1\u001b[0m i_u \u001b[38;5;241m=\u001b[39m i_u\u001b[38;5;241m.\u001b[39mdrop(\u001b[38;5;124m'\u001b[39m\u001b[38;5;124mValue Footnotes\u001b[39m\u001b[38;5;124m'\u001b[39m, axis \u001b[38;5;241m=\u001b[39m \u001b[38;5;241m1\u001b[39m)\n",
      "File \u001b[1;32m~\\anaconda3\\Lib\\site-packages\\pandas\\core\\frame.py:5581\u001b[0m, in \u001b[0;36mDataFrame.drop\u001b[1;34m(self, labels, axis, index, columns, level, inplace, errors)\u001b[0m\n\u001b[0;32m   5433\u001b[0m \u001b[38;5;28;01mdef\u001b[39;00m \u001b[38;5;21mdrop\u001b[39m(\n\u001b[0;32m   5434\u001b[0m     \u001b[38;5;28mself\u001b[39m,\n\u001b[0;32m   5435\u001b[0m     labels: IndexLabel \u001b[38;5;241m|\u001b[39m \u001b[38;5;28;01mNone\u001b[39;00m \u001b[38;5;241m=\u001b[39m \u001b[38;5;28;01mNone\u001b[39;00m,\n\u001b[1;32m   (...)\u001b[0m\n\u001b[0;32m   5442\u001b[0m     errors: IgnoreRaise \u001b[38;5;241m=\u001b[39m \u001b[38;5;124m\"\u001b[39m\u001b[38;5;124mraise\u001b[39m\u001b[38;5;124m\"\u001b[39m,\n\u001b[0;32m   5443\u001b[0m ) \u001b[38;5;241m-\u001b[39m\u001b[38;5;241m>\u001b[39m DataFrame \u001b[38;5;241m|\u001b[39m \u001b[38;5;28;01mNone\u001b[39;00m:\n\u001b[0;32m   5444\u001b[0m \u001b[38;5;250m    \u001b[39m\u001b[38;5;124;03m\"\"\"\u001b[39;00m\n\u001b[0;32m   5445\u001b[0m \u001b[38;5;124;03m    Drop specified labels from rows or columns.\u001b[39;00m\n\u001b[0;32m   5446\u001b[0m \n\u001b[1;32m   (...)\u001b[0m\n\u001b[0;32m   5579\u001b[0m \u001b[38;5;124;03m            weight  1.0     0.8\u001b[39;00m\n\u001b[0;32m   5580\u001b[0m \u001b[38;5;124;03m    \"\"\"\u001b[39;00m\n\u001b[1;32m-> 5581\u001b[0m     \u001b[38;5;28;01mreturn\u001b[39;00m \u001b[38;5;28msuper\u001b[39m()\u001b[38;5;241m.\u001b[39mdrop(\n\u001b[0;32m   5582\u001b[0m         labels\u001b[38;5;241m=\u001b[39mlabels,\n\u001b[0;32m   5583\u001b[0m         axis\u001b[38;5;241m=\u001b[39maxis,\n\u001b[0;32m   5584\u001b[0m         index\u001b[38;5;241m=\u001b[39mindex,\n\u001b[0;32m   5585\u001b[0m         columns\u001b[38;5;241m=\u001b[39mcolumns,\n\u001b[0;32m   5586\u001b[0m         level\u001b[38;5;241m=\u001b[39mlevel,\n\u001b[0;32m   5587\u001b[0m         inplace\u001b[38;5;241m=\u001b[39minplace,\n\u001b[0;32m   5588\u001b[0m         errors\u001b[38;5;241m=\u001b[39merrors,\n\u001b[0;32m   5589\u001b[0m     )\n",
      "File \u001b[1;32m~\\anaconda3\\Lib\\site-packages\\pandas\\core\\generic.py:4788\u001b[0m, in \u001b[0;36mNDFrame.drop\u001b[1;34m(self, labels, axis, index, columns, level, inplace, errors)\u001b[0m\n\u001b[0;32m   4786\u001b[0m \u001b[38;5;28;01mfor\u001b[39;00m axis, labels \u001b[38;5;129;01min\u001b[39;00m axes\u001b[38;5;241m.\u001b[39mitems():\n\u001b[0;32m   4787\u001b[0m     \u001b[38;5;28;01mif\u001b[39;00m labels \u001b[38;5;129;01mis\u001b[39;00m \u001b[38;5;129;01mnot\u001b[39;00m \u001b[38;5;28;01mNone\u001b[39;00m:\n\u001b[1;32m-> 4788\u001b[0m         obj \u001b[38;5;241m=\u001b[39m obj\u001b[38;5;241m.\u001b[39m_drop_axis(labels, axis, level\u001b[38;5;241m=\u001b[39mlevel, errors\u001b[38;5;241m=\u001b[39merrors)\n\u001b[0;32m   4790\u001b[0m \u001b[38;5;28;01mif\u001b[39;00m inplace:\n\u001b[0;32m   4791\u001b[0m     \u001b[38;5;28mself\u001b[39m\u001b[38;5;241m.\u001b[39m_update_inplace(obj)\n",
      "File \u001b[1;32m~\\anaconda3\\Lib\\site-packages\\pandas\\core\\generic.py:4830\u001b[0m, in \u001b[0;36mNDFrame._drop_axis\u001b[1;34m(self, labels, axis, level, errors, only_slice)\u001b[0m\n\u001b[0;32m   4828\u001b[0m         new_axis \u001b[38;5;241m=\u001b[39m axis\u001b[38;5;241m.\u001b[39mdrop(labels, level\u001b[38;5;241m=\u001b[39mlevel, errors\u001b[38;5;241m=\u001b[39merrors)\n\u001b[0;32m   4829\u001b[0m     \u001b[38;5;28;01melse\u001b[39;00m:\n\u001b[1;32m-> 4830\u001b[0m         new_axis \u001b[38;5;241m=\u001b[39m axis\u001b[38;5;241m.\u001b[39mdrop(labels, errors\u001b[38;5;241m=\u001b[39merrors)\n\u001b[0;32m   4831\u001b[0m     indexer \u001b[38;5;241m=\u001b[39m axis\u001b[38;5;241m.\u001b[39mget_indexer(new_axis)\n\u001b[0;32m   4833\u001b[0m \u001b[38;5;66;03m# Case for non-unique axis\u001b[39;00m\n\u001b[0;32m   4834\u001b[0m \u001b[38;5;28;01melse\u001b[39;00m:\n",
      "File \u001b[1;32m~\\anaconda3\\Lib\\site-packages\\pandas\\core\\indexes\\base.py:7070\u001b[0m, in \u001b[0;36mIndex.drop\u001b[1;34m(self, labels, errors)\u001b[0m\n\u001b[0;32m   7068\u001b[0m \u001b[38;5;28;01mif\u001b[39;00m mask\u001b[38;5;241m.\u001b[39many():\n\u001b[0;32m   7069\u001b[0m     \u001b[38;5;28;01mif\u001b[39;00m errors \u001b[38;5;241m!=\u001b[39m \u001b[38;5;124m\"\u001b[39m\u001b[38;5;124mignore\u001b[39m\u001b[38;5;124m\"\u001b[39m:\n\u001b[1;32m-> 7070\u001b[0m         \u001b[38;5;28;01mraise\u001b[39;00m \u001b[38;5;167;01mKeyError\u001b[39;00m(\u001b[38;5;124mf\u001b[39m\u001b[38;5;124m\"\u001b[39m\u001b[38;5;132;01m{\u001b[39;00mlabels[mask]\u001b[38;5;241m.\u001b[39mtolist()\u001b[38;5;132;01m}\u001b[39;00m\u001b[38;5;124m not found in axis\u001b[39m\u001b[38;5;124m\"\u001b[39m)\n\u001b[0;32m   7071\u001b[0m     indexer \u001b[38;5;241m=\u001b[39m indexer[\u001b[38;5;241m~\u001b[39mmask]\n\u001b[0;32m   7072\u001b[0m \u001b[38;5;28;01mreturn\u001b[39;00m \u001b[38;5;28mself\u001b[39m\u001b[38;5;241m.\u001b[39mdelete(indexer)\n",
      "\u001b[1;31mKeyError\u001b[0m: \"['Value Footnotes'] not found in axis\""
     ]
    }
   ],
   "source": [
    "i_u = i_u.drop('Value Footnotes', axis = 1)"
   ]
  },
  {
   "cell_type": "markdown",
   "id": "dd9f894d-1870-41b9-a6c9-d0fb8ace34ca",
   "metadata": {},
   "source": [
    "17. The first year to have a non-zero (> 0.0) internet users percentage in this data set was 1990.\n",
    "\n",
    "\n",
    "    The first year to have a non-zero (>= 1) internet users percentage in this data set was 1991.\n",
    "\n",
    "    -233 total countries-\n",
    "\n",
    "    *I plan on coming back to this to calculate it an alternative way.\n",
    "    "
   ]
  },
  {
   "cell_type": "code",
   "execution_count": 1273,
   "id": "cce7e09c-5f07-4fbc-8f5d-89e424e6dbb9",
   "metadata": {},
   "outputs": [],
   "source": [
    "i_u.columns = ['Country', 'Year', 'Value']"
   ]
  },
  {
   "cell_type": "code",
   "execution_count": 1281,
   "id": "dac98a1e-95a7-4670-9b8b-1dcf17a75d17",
   "metadata": {},
   "outputs": [
    {
     "data": {
      "text/plain": [
       "Country\n",
       "Sweden                      34\n",
       "Denmark                     34\n",
       "Germany                     34\n",
       "Finland                     33\n",
       "Brazil                      33\n",
       "                            ..\n",
       "American Samoa               1\n",
       "St. Pierre & Miquelon        1\n",
       "Turks and Caicos Islands     1\n",
       "Northern Marianas            1\n",
       "footnoteSeqID                1\n",
       "Name: count, Length: 233, dtype: int64"
      ]
     },
     "execution_count": 1281,
     "metadata": {},
     "output_type": "execute_result"
    }
   ],
   "source": [
    "i_u.value_counts('Country')"
   ]
  },
  {
   "cell_type": "code",
   "execution_count": 1228,
   "id": "567b947e-fd5f-4559-9e5e-29a1474b0fd7",
   "metadata": {},
   "outputs": [],
   "source": [
    "yearcount = i_u.value_counts('Year')"
   ]
  },
  {
   "cell_type": "code",
   "execution_count": 1254,
   "id": "b7b1ea20-c0fb-4102-ac79-e3ad40a3ee91",
   "metadata": {},
   "outputs": [],
   "source": [
    "sortedyr = i_u.sort_values('Year') "
   ]
  },
  {
   "cell_type": "markdown",
   "id": "8609cf36-872e-4eea-b4ce-8dceacca535b",
   "metadata": {},
   "source": [
    "18. How does the distribution of internet users percent differ for 2000 and 2014?"
   ]
  },
  {
   "cell_type": "code",
   "execution_count": 1325,
   "id": "47041472-9ea3-453c-82c2-086edb87dba8",
   "metadata": {},
   "outputs": [],
   "source": [
    "y2000 = i_u.loc[i_u['Year'] == '2000' ]"
   ]
  },
  {
   "cell_type": "code",
   "execution_count": 1488,
   "id": "1083e201-24e3-4567-bce8-c79c9f7299fb",
   "metadata": {},
   "outputs": [],
   "source": [
    "y2014 = i_u.loc[i_u['Year'] == '2014' ]"
   ]
  },
  {
   "cell_type": "code",
   "execution_count": 1383,
   "id": "312f8d77-8c81-4790-8578-8c8f989bd4fe",
   "metadata": {
    "scrolled": true
   },
   "outputs": [
    {
     "data": {
      "text/html": [
       "<div>\n",
       "<style scoped>\n",
       "    .dataframe tbody tr th:only-of-type {\n",
       "        vertical-align: middle;\n",
       "    }\n",
       "\n",
       "    .dataframe tbody tr th {\n",
       "        vertical-align: top;\n",
       "    }\n",
       "\n",
       "    .dataframe thead th {\n",
       "        text-align: right;\n",
       "    }\n",
       "</style>\n",
       "<table border=\"1\" class=\"dataframe\">\n",
       "  <thead>\n",
       "    <tr style=\"text-align: right;\">\n",
       "      <th></th>\n",
       "      <th>Value</th>\n",
       "    </tr>\n",
       "  </thead>\n",
       "  <tbody>\n",
       "    <tr>\n",
       "      <th>count</th>\n",
       "      <td>210.000000</td>\n",
       "    </tr>\n",
       "    <tr>\n",
       "      <th>mean</th>\n",
       "      <td>9.332385</td>\n",
       "    </tr>\n",
       "    <tr>\n",
       "      <th>std</th>\n",
       "      <td>13.644205</td>\n",
       "    </tr>\n",
       "    <tr>\n",
       "      <th>min</th>\n",
       "      <td>0.000000</td>\n",
       "    </tr>\n",
       "    <tr>\n",
       "      <th>25%</th>\n",
       "      <td>0.482059</td>\n",
       "    </tr>\n",
       "    <tr>\n",
       "      <th>50%</th>\n",
       "      <td>2.886680</td>\n",
       "    </tr>\n",
       "    <tr>\n",
       "      <th>75%</th>\n",
       "      <td>10.539025</td>\n",
       "    </tr>\n",
       "    <tr>\n",
       "      <th>max</th>\n",
       "      <td>58.620700</td>\n",
       "    </tr>\n",
       "  </tbody>\n",
       "</table>\n",
       "</div>"
      ],
      "text/plain": [
       "            Value\n",
       "count  210.000000\n",
       "mean     9.332385\n",
       "std     13.644205\n",
       "min      0.000000\n",
       "25%      0.482059\n",
       "50%      2.886680\n",
       "75%     10.539025\n",
       "max     58.620700"
      ]
     },
     "execution_count": 1383,
     "metadata": {},
     "output_type": "execute_result"
    }
   ],
   "source": [
    "y2000.describe()"
   ]
  },
  {
   "cell_type": "markdown",
   "id": "90cd06b5-009b-4146-bc74-ae5f8bc4e4cc",
   "metadata": {},
   "source": [
    "y2014.describe()"
   ]
  },
  {
   "cell_type": "code",
   "execution_count": 1387,
   "id": "8b291121-7bdd-4ab2-b443-3202c733b083",
   "metadata": {},
   "outputs": [
    {
     "data": {
      "text/plain": [
       "10.02"
      ]
     },
     "execution_count": 1387,
     "metadata": {},
     "output_type": "execute_result"
    }
   ],
   "source": [
    "10.5-0.48"
   ]
  },
  {
   "cell_type": "code",
   "execution_count": 1407,
   "id": "2d720fa4-6029-4668-b20f-252a6f41db1f",
   "metadata": {},
   "outputs": [
    {
     "data": {
      "text/plain": [
       "52.86000000000001"
      ]
     },
     "execution_count": 1407,
     "metadata": {},
     "output_type": "execute_result"
    }
   ],
   "source": [
    "70.26-17.40"
   ]
  },
  {
   "cell_type": "code",
   "execution_count": 1411,
   "id": "4f57938a-beac-4304-8864-c445dd7ae231",
   "metadata": {},
   "outputs": [
    {
     "data": {
      "text/plain": [
       "42.84"
      ]
     },
     "execution_count": 1411,
     "metadata": {},
     "output_type": "execute_result"
    }
   ],
   "source": [
    "52.86-10.02"
   ]
  },
  {
   "cell_type": "markdown",
   "id": "586aac46-038f-4c2a-a368-dc874e977791",
   "metadata": {},
   "source": [
    "18.  The minimum internet user percentage in 2000 was 0%, but in 2014, it jumped up to 0.99%\n",
    "\n",
    "     The 50th percentage rose from 2.89% in 2000 to 42.82% in 2014.\n",
    "\n",
    "     The mean percentage rose from 9.33% in 2000 to 45.60% in 2014.\n",
    "\n",
    "     The IQR went up from 10.02 percentage points in 2000 to 52.86 in 2014 for a total difference of 42.84 percentage points.\n",
    "    \n",
    "\n",
    "    \n"
   ]
  },
  {
   "cell_type": "markdown",
   "id": "b5eb3fbd-602c-42a3-8e23-7f8d08f6d8c4",
   "metadata": {},
   "source": [
    "19. For how many countries was the percentage of internet users below 5% in 2014?"
   ]
  },
  {
   "cell_type": "code",
   "execution_count": 1540,
   "id": "805a3235-4512-4b7c-95ba-d9f91cb81dde",
   "metadata": {},
   "outputs": [],
   "source": [
    "p2014 = i_u.loc[i_u['Value'] < 5.0 ]"
   ]
  },
  {
   "cell_type": "code",
   "execution_count": 1570,
   "id": "d60a22bb-d92e-4ffd-a6b5-4d1644a5a4c8",
   "metadata": {},
   "outputs": [
    {
     "ename": "ValueError",
     "evalue": "No axis named Country for object type DataFrame",
     "output_type": "error",
     "traceback": [
      "\u001b[1;31m---------------------------------------------------------------------------\u001b[0m",
      "\u001b[1;31mKeyError\u001b[0m                                  Traceback (most recent call last)",
      "\u001b[1;32m~\\anaconda3\\Lib\\site-packages\\pandas\\core\\generic.py\u001b[0m in \u001b[0;36m?\u001b[1;34m(cls, axis)\u001b[0m\n\u001b[0;32m    576\u001b[0m             \u001b[1;32mreturn\u001b[0m \u001b[0mcls\u001b[0m\u001b[1;33m.\u001b[0m\u001b[0m_AXIS_TO_AXIS_NUMBER\u001b[0m\u001b[1;33m[\u001b[0m\u001b[0maxis\u001b[0m\u001b[1;33m]\u001b[0m\u001b[1;33m\u001b[0m\u001b[1;33m\u001b[0m\u001b[0m\n\u001b[0;32m    577\u001b[0m         \u001b[1;32mexcept\u001b[0m \u001b[0mKeyError\u001b[0m\u001b[1;33m:\u001b[0m\u001b[1;33m\u001b[0m\u001b[1;33m\u001b[0m\u001b[0m\n\u001b[1;32m--> 578\u001b[1;33m             \u001b[1;32mraise\u001b[0m \u001b[0mValueError\u001b[0m\u001b[1;33m(\u001b[0m\u001b[1;33mf\"\u001b[0m\u001b[1;33mNo axis named \u001b[0m\u001b[1;33m{\u001b[0m\u001b[0maxis\u001b[0m\u001b[1;33m}\u001b[0m\u001b[1;33m for object type \u001b[0m\u001b[1;33m{\u001b[0m\u001b[0mcls\u001b[0m\u001b[1;33m.\u001b[0m\u001b[0m__name__\u001b[0m\u001b[1;33m}\u001b[0m\u001b[1;33m\"\u001b[0m\u001b[1;33m)\u001b[0m\u001b[1;33m\u001b[0m\u001b[1;33m\u001b[0m\u001b[0m\n\u001b[0m",
      "\u001b[1;31mKeyError\u001b[0m: 'Country'",
      "\nDuring handling of the above exception, another exception occurred:\n",
      "\u001b[1;31mValueError\u001b[0m                                Traceback (most recent call last)",
      "\u001b[1;32m~\\AppData\\Local\\Temp\\ipykernel_10424\\1375812691.py\u001b[0m in \u001b[0;36m?\u001b[1;34m()\u001b[0m\n\u001b[1;32m----> 1\u001b[1;33m \u001b[0my2014\u001b[0m\u001b[1;33m.\u001b[0m\u001b[0mnunique\u001b[0m\u001b[1;33m(\u001b[0m\u001b[1;34m'Country'\u001b[0m\u001b[1;33m)\u001b[0m\u001b[1;33m\u001b[0m\u001b[1;33m\u001b[0m\u001b[0m\n\u001b[0m",
      "\u001b[1;32m~\\anaconda3\\Lib\\site-packages\\pandas\\core\\frame.py\u001b[0m in \u001b[0;36m?\u001b[1;34m(self, axis, dropna)\u001b[0m\n\u001b[0;32m  11832\u001b[0m         \u001b[1;36m1\u001b[0m    \u001b[1;36m2\u001b[0m\u001b[1;33m\u001b[0m\u001b[1;33m\u001b[0m\u001b[0m\n\u001b[0;32m  11833\u001b[0m         \u001b[1;36m2\u001b[0m    \u001b[1;36m2\u001b[0m\u001b[1;33m\u001b[0m\u001b[1;33m\u001b[0m\u001b[0m\n\u001b[0;32m  11834\u001b[0m         \u001b[0mdtype\u001b[0m\u001b[1;33m:\u001b[0m \u001b[0mint64\u001b[0m\u001b[1;33m\u001b[0m\u001b[1;33m\u001b[0m\u001b[0m\n\u001b[0;32m  11835\u001b[0m         \"\"\"\n\u001b[1;32m> 11836\u001b[1;33m         \u001b[1;32mreturn\u001b[0m \u001b[0mself\u001b[0m\u001b[1;33m.\u001b[0m\u001b[0mapply\u001b[0m\u001b[1;33m(\u001b[0m\u001b[0mSeries\u001b[0m\u001b[1;33m.\u001b[0m\u001b[0mnunique\u001b[0m\u001b[1;33m,\u001b[0m \u001b[0maxis\u001b[0m\u001b[1;33m=\u001b[0m\u001b[0maxis\u001b[0m\u001b[1;33m,\u001b[0m \u001b[0mdropna\u001b[0m\u001b[1;33m=\u001b[0m\u001b[0mdropna\u001b[0m\u001b[1;33m)\u001b[0m\u001b[1;33m\u001b[0m\u001b[1;33m\u001b[0m\u001b[0m\n\u001b[0m",
      "\u001b[1;32m~\\anaconda3\\Lib\\site-packages\\pandas\\core\\frame.py\u001b[0m in \u001b[0;36m?\u001b[1;34m(self, func, axis, raw, result_type, args, by_row, engine, engine_kwargs, **kwargs)\u001b[0m\n\u001b[0;32m  10358\u001b[0m         \u001b[1;36m2\u001b[0m  \u001b[1;36m1\u001b[0m  \u001b[1;36m2\u001b[0m\u001b[1;33m\u001b[0m\u001b[1;33m\u001b[0m\u001b[0m\n\u001b[0;32m  10359\u001b[0m         \"\"\"\n\u001b[0;32m  10360\u001b[0m         \u001b[1;32mfrom\u001b[0m \u001b[0mpandas\u001b[0m\u001b[1;33m.\u001b[0m\u001b[0mcore\u001b[0m\u001b[1;33m.\u001b[0m\u001b[0mapply\u001b[0m \u001b[1;32mimport\u001b[0m \u001b[0mframe_apply\u001b[0m\u001b[1;33m\u001b[0m\u001b[1;33m\u001b[0m\u001b[0m\n\u001b[0;32m  10361\u001b[0m \u001b[1;33m\u001b[0m\u001b[0m\n\u001b[1;32m> 10362\u001b[1;33m         op = frame_apply(\n\u001b[0m\u001b[0;32m  10363\u001b[0m             \u001b[0mself\u001b[0m\u001b[1;33m,\u001b[0m\u001b[1;33m\u001b[0m\u001b[1;33m\u001b[0m\u001b[0m\n\u001b[0;32m  10364\u001b[0m             \u001b[0mfunc\u001b[0m\u001b[1;33m=\u001b[0m\u001b[0mfunc\u001b[0m\u001b[1;33m,\u001b[0m\u001b[1;33m\u001b[0m\u001b[1;33m\u001b[0m\u001b[0m\n\u001b[0;32m  10365\u001b[0m             \u001b[0maxis\u001b[0m\u001b[1;33m=\u001b[0m\u001b[0maxis\u001b[0m\u001b[1;33m,\u001b[0m\u001b[1;33m\u001b[0m\u001b[1;33m\u001b[0m\u001b[0m\n",
      "\u001b[1;32m~\\anaconda3\\Lib\\site-packages\\pandas\\core\\apply.py\u001b[0m in \u001b[0;36m?\u001b[1;34m(obj, func, axis, raw, result_type, by_row, engine, engine_kwargs, args, kwargs)\u001b[0m\n\u001b[0;32m     91\u001b[0m     \u001b[0margs\u001b[0m\u001b[1;33m=\u001b[0m\u001b[1;32mNone\u001b[0m\u001b[1;33m,\u001b[0m\u001b[1;33m\u001b[0m\u001b[1;33m\u001b[0m\u001b[0m\n\u001b[0;32m     92\u001b[0m     \u001b[0mkwargs\u001b[0m\u001b[1;33m=\u001b[0m\u001b[1;32mNone\u001b[0m\u001b[1;33m,\u001b[0m\u001b[1;33m\u001b[0m\u001b[1;33m\u001b[0m\u001b[0m\n\u001b[0;32m     93\u001b[0m \u001b[1;33m)\u001b[0m \u001b[1;33m->\u001b[0m \u001b[0mFrameApply\u001b[0m\u001b[1;33m:\u001b[0m\u001b[1;33m\u001b[0m\u001b[1;33m\u001b[0m\u001b[0m\n\u001b[0;32m     94\u001b[0m     \u001b[1;34m\"\"\"construct and return a row or column based frame apply object\"\"\"\u001b[0m\u001b[1;33m\u001b[0m\u001b[1;33m\u001b[0m\u001b[0m\n\u001b[1;32m---> 95\u001b[1;33m     \u001b[0maxis\u001b[0m \u001b[1;33m=\u001b[0m \u001b[0mobj\u001b[0m\u001b[1;33m.\u001b[0m\u001b[0m_get_axis_number\u001b[0m\u001b[1;33m(\u001b[0m\u001b[0maxis\u001b[0m\u001b[1;33m)\u001b[0m\u001b[1;33m\u001b[0m\u001b[1;33m\u001b[0m\u001b[0m\n\u001b[0m\u001b[0;32m     96\u001b[0m     \u001b[0mklass\u001b[0m\u001b[1;33m:\u001b[0m \u001b[0mtype\u001b[0m\u001b[1;33m[\u001b[0m\u001b[0mFrameApply\u001b[0m\u001b[1;33m]\u001b[0m\u001b[1;33m\u001b[0m\u001b[1;33m\u001b[0m\u001b[0m\n\u001b[0;32m     97\u001b[0m     \u001b[1;32mif\u001b[0m \u001b[0maxis\u001b[0m \u001b[1;33m==\u001b[0m \u001b[1;36m0\u001b[0m\u001b[1;33m:\u001b[0m\u001b[1;33m\u001b[0m\u001b[1;33m\u001b[0m\u001b[0m\n\u001b[0;32m     98\u001b[0m         \u001b[0mklass\u001b[0m \u001b[1;33m=\u001b[0m \u001b[0mFrameRowApply\u001b[0m\u001b[1;33m\u001b[0m\u001b[1;33m\u001b[0m\u001b[0m\n",
      "\u001b[1;32m~\\anaconda3\\Lib\\site-packages\\pandas\\core\\generic.py\u001b[0m in \u001b[0;36m?\u001b[1;34m(cls, axis)\u001b[0m\n\u001b[0;32m    574\u001b[0m     \u001b[1;32mdef\u001b[0m \u001b[0m_get_axis_number\u001b[0m\u001b[1;33m(\u001b[0m\u001b[0mcls\u001b[0m\u001b[1;33m,\u001b[0m \u001b[0maxis\u001b[0m\u001b[1;33m:\u001b[0m \u001b[0mAxis\u001b[0m\u001b[1;33m)\u001b[0m \u001b[1;33m->\u001b[0m \u001b[0mAxisInt\u001b[0m\u001b[1;33m:\u001b[0m\u001b[1;33m\u001b[0m\u001b[1;33m\u001b[0m\u001b[0m\n\u001b[0;32m    575\u001b[0m         \u001b[1;32mtry\u001b[0m\u001b[1;33m:\u001b[0m\u001b[1;33m\u001b[0m\u001b[1;33m\u001b[0m\u001b[0m\n\u001b[0;32m    576\u001b[0m             \u001b[1;32mreturn\u001b[0m \u001b[0mcls\u001b[0m\u001b[1;33m.\u001b[0m\u001b[0m_AXIS_TO_AXIS_NUMBER\u001b[0m\u001b[1;33m[\u001b[0m\u001b[0maxis\u001b[0m\u001b[1;33m]\u001b[0m\u001b[1;33m\u001b[0m\u001b[1;33m\u001b[0m\u001b[0m\n\u001b[0;32m    577\u001b[0m         \u001b[1;32mexcept\u001b[0m \u001b[0mKeyError\u001b[0m\u001b[1;33m:\u001b[0m\u001b[1;33m\u001b[0m\u001b[1;33m\u001b[0m\u001b[0m\n\u001b[1;32m--> 578\u001b[1;33m             \u001b[1;32mraise\u001b[0m \u001b[0mValueError\u001b[0m\u001b[1;33m(\u001b[0m\u001b[1;33mf\"\u001b[0m\u001b[1;33mNo axis named \u001b[0m\u001b[1;33m{\u001b[0m\u001b[0maxis\u001b[0m\u001b[1;33m}\u001b[0m\u001b[1;33m for object type \u001b[0m\u001b[1;33m{\u001b[0m\u001b[0mcls\u001b[0m\u001b[1;33m.\u001b[0m\u001b[0m__name__\u001b[0m\u001b[1;33m}\u001b[0m\u001b[1;33m\"\u001b[0m\u001b[1;33m)\u001b[0m\u001b[1;33m\u001b[0m\u001b[1;33m\u001b[0m\u001b[0m\n\u001b[0m",
      "\u001b[1;31mValueError\u001b[0m: No axis named Country for object type DataFrame"
     ]
    }
   ],
   "source": [
    "y2014.nunique('Country')"
   ]
  },
  {
   "cell_type": "code",
   "execution_count": 1566,
   "id": "088cfa0a-6892-4f50-8a27-d51fa4f13424",
   "metadata": {},
   "outputs": [],
   "source": [
    "n = y2014['Country'].nunique"
   ]
  },
  {
   "cell_type": "code",
   "execution_count": 1568,
   "id": "d28a1c08-4fd1-4b3f-88e3-42048d313f29",
   "metadata": {},
   "outputs": [
    {
     "name": "stdout",
     "output_type": "stream",
     "text": [
      "<bound method IndexOpsMixin.nunique of 5               Afghanistan\n",
      "28                  Albania\n",
      "57                  Algeria\n",
      "87                  Andorra\n",
      "114                  Angola\n",
      "               ...         \n",
      "5937               Viet Nam\n",
      "5960    Virgin Islands (US)\n",
      "6003                  Yemen\n",
      "6031                 Zambia\n",
      "6061               Zimbabwe\n",
      "Name: Country, Length: 204, dtype: object>\n"
     ]
    }
   ],
   "source": [
    "print(n)"
   ]
  },
  {
   "cell_type": "markdown",
   "id": "263caa04-2c0f-4d35-b523-7edce6e32f8b",
   "metadata": {},
   "source": [
    "19. There were 5 countries with a rate of less than 5% in 2014."
   ]
  },
  {
   "cell_type": "markdown",
   "id": "11a901b3-5cab-4956-aaa2-26e3433e3c8d",
   "metadata": {},
   "source": [
    "20. Merge the two DataFrames to one. Do this in a way that keeps **all rows** from each of the two DataFrames. \n",
    "Call the new DataFrame `gdp_and_internet_use`. Look at the first and last few rows to confirm that it merged correctly."
   ]
  },
  {
   "cell_type": "code",
   "execution_count": 1581,
   "id": "51ce299a-1631-4973-826a-2ed56a1991f5",
   "metadata": {},
   "outputs": [],
   "source": [
    "iu = pd.read_csv('../data/internet_use.csv', nrows = 6084)"
   ]
  },
  {
   "cell_type": "code",
   "execution_count": 1583,
   "id": "397d4a64-ab94-4316-9182-6c6bdee7cfdc",
   "metadata": {},
   "outputs": [],
   "source": [
    "gdp = pd.read_csv('../data/gdp_percapita.csv')"
   ]
  },
  {
   "cell_type": "code",
   "execution_count": 1589,
   "id": "e4edcf3e-e4bf-4c60-91b8-ef22d252d3ea",
   "metadata": {},
   "outputs": [],
   "source": [
    "gdp_and_internet_use = pd.concat([iu, gdp])"
   ]
  },
  {
   "cell_type": "code",
   "execution_count": 1603,
   "id": "76a0786f-9ffb-4444-b961-5cf4e979310f",
   "metadata": {},
   "outputs": [],
   "source": [
    "iu.columns = ['Country', 'Year', 'Value', 'Value Footnotes']"
   ]
  },
  {
   "cell_type": "code",
   "execution_count": 1607,
   "id": "294724a2-181d-4f5c-b71c-d9b2807bb85e",
   "metadata": {},
   "outputs": [
    {
     "data": {
      "text/html": [
       "<div>\n",
       "<style scoped>\n",
       "    .dataframe tbody tr th:only-of-type {\n",
       "        vertical-align: middle;\n",
       "    }\n",
       "\n",
       "    .dataframe tbody tr th {\n",
       "        vertical-align: top;\n",
       "    }\n",
       "\n",
       "    .dataframe thead th {\n",
       "        text-align: right;\n",
       "    }\n",
       "</style>\n",
       "<table border=\"1\" class=\"dataframe\">\n",
       "  <thead>\n",
       "    <tr style=\"text-align: right;\">\n",
       "      <th></th>\n",
       "      <th>Country</th>\n",
       "      <th>Year</th>\n",
       "      <th>Value</th>\n",
       "    </tr>\n",
       "  </thead>\n",
       "  <tbody>\n",
       "    <tr>\n",
       "      <th>0</th>\n",
       "      <td>Afghanistan</td>\n",
       "      <td>2019</td>\n",
       "      <td>17.600000</td>\n",
       "    </tr>\n",
       "    <tr>\n",
       "      <th>1</th>\n",
       "      <td>Afghanistan</td>\n",
       "      <td>2018</td>\n",
       "      <td>16.800000</td>\n",
       "    </tr>\n",
       "    <tr>\n",
       "      <th>2</th>\n",
       "      <td>Afghanistan</td>\n",
       "      <td>2017</td>\n",
       "      <td>13.500000</td>\n",
       "    </tr>\n",
       "    <tr>\n",
       "      <th>3</th>\n",
       "      <td>Afghanistan</td>\n",
       "      <td>2016</td>\n",
       "      <td>11.000000</td>\n",
       "    </tr>\n",
       "    <tr>\n",
       "      <th>4</th>\n",
       "      <td>Afghanistan</td>\n",
       "      <td>2015</td>\n",
       "      <td>8.260000</td>\n",
       "    </tr>\n",
       "    <tr>\n",
       "      <th>...</th>\n",
       "      <td>...</td>\n",
       "      <td>...</td>\n",
       "      <td>...</td>\n",
       "    </tr>\n",
       "    <tr>\n",
       "      <th>6079</th>\n",
       "      <td>Zimbabwe</td>\n",
       "      <td>1996</td>\n",
       "      <td>0.016790</td>\n",
       "    </tr>\n",
       "    <tr>\n",
       "      <th>6080</th>\n",
       "      <td>Zimbabwe</td>\n",
       "      <td>1995</td>\n",
       "      <td>0.007684</td>\n",
       "    </tr>\n",
       "    <tr>\n",
       "      <th>6081</th>\n",
       "      <td>Zimbabwe</td>\n",
       "      <td>1994</td>\n",
       "      <td>0.001739</td>\n",
       "    </tr>\n",
       "    <tr>\n",
       "      <th>6082</th>\n",
       "      <td>Zimbabwe</td>\n",
       "      <td>1990</td>\n",
       "      <td>0.000000</td>\n",
       "    </tr>\n",
       "    <tr>\n",
       "      <th>6083</th>\n",
       "      <td>footnoteSeqID</td>\n",
       "      <td>Footnote</td>\n",
       "      <td>NaN</td>\n",
       "    </tr>\n",
       "  </tbody>\n",
       "</table>\n",
       "<p>6084 rows × 3 columns</p>\n",
       "</div>"
      ],
      "text/plain": [
       "            Country      Year      Value\n",
       "0       Afghanistan      2019  17.600000\n",
       "1       Afghanistan      2018  16.800000\n",
       "2       Afghanistan      2017  13.500000\n",
       "3       Afghanistan      2016  11.000000\n",
       "4       Afghanistan      2015   8.260000\n",
       "...             ...       ...        ...\n",
       "6079       Zimbabwe      1996   0.016790\n",
       "6080       Zimbabwe      1995   0.007684\n",
       "6081       Zimbabwe      1994   0.001739\n",
       "6082       Zimbabwe      1990   0.000000\n",
       "6083  footnoteSeqID  Footnote        NaN\n",
       "\n",
       "[6084 rows x 3 columns]"
      ]
     },
     "execution_count": 1607,
     "metadata": {},
     "output_type": "execute_result"
    }
   ],
   "source": [
    "iu.drop('Value Footnotes', axis = 1)"
   ]
  },
  {
   "cell_type": "code",
   "execution_count": 1611,
   "id": "712cba5a-0802-4198-87b8-d39e67a86f43",
   "metadata": {},
   "outputs": [
    {
     "data": {
      "text/plain": [
       "Index(['Country or Area', 'Year', 'Value', 'Value Footnotes'], dtype='object')"
      ]
     },
     "execution_count": 1611,
     "metadata": {},
     "output_type": "execute_result"
    }
   ],
   "source": [
    "gdp.columns"
   ]
  },
  {
   "cell_type": "code",
   "execution_count": 1613,
   "id": "70f535da-961b-40fa-bead-69586cb93c5c",
   "metadata": {},
   "outputs": [],
   "source": [
    "gdp.columns = ['Country', 'Year', 'Value', 'Value Footnotes']"
   ]
  },
  {
   "cell_type": "code",
   "execution_count": 1591,
   "id": "978ba947-20ec-473f-8b99-eb18f5cca3f5",
   "metadata": {},
   "outputs": [
    {
     "data": {
      "text/html": [
       "<div>\n",
       "<style scoped>\n",
       "    .dataframe tbody tr th:only-of-type {\n",
       "        vertical-align: middle;\n",
       "    }\n",
       "\n",
       "    .dataframe tbody tr th {\n",
       "        vertical-align: top;\n",
       "    }\n",
       "\n",
       "    .dataframe thead th {\n",
       "        text-align: right;\n",
       "    }\n",
       "</style>\n",
       "<table border=\"1\" class=\"dataframe\">\n",
       "  <thead>\n",
       "    <tr style=\"text-align: right;\">\n",
       "      <th></th>\n",
       "      <th>Country or Area</th>\n",
       "      <th>Year</th>\n",
       "      <th>Value</th>\n",
       "      <th>Value Footnotes</th>\n",
       "    </tr>\n",
       "  </thead>\n",
       "  <tbody>\n",
       "    <tr>\n",
       "      <th>0</th>\n",
       "      <td>Afghanistan</td>\n",
       "      <td>2019</td>\n",
       "      <td>17.60</td>\n",
       "      <td>1</td>\n",
       "    </tr>\n",
       "    <tr>\n",
       "      <th>1</th>\n",
       "      <td>Afghanistan</td>\n",
       "      <td>2018</td>\n",
       "      <td>16.80</td>\n",
       "      <td>2</td>\n",
       "    </tr>\n",
       "    <tr>\n",
       "      <th>2</th>\n",
       "      <td>Afghanistan</td>\n",
       "      <td>2017</td>\n",
       "      <td>13.50</td>\n",
       "      <td>3</td>\n",
       "    </tr>\n",
       "    <tr>\n",
       "      <th>3</th>\n",
       "      <td>Afghanistan</td>\n",
       "      <td>2016</td>\n",
       "      <td>11.00</td>\n",
       "      <td>4</td>\n",
       "    </tr>\n",
       "    <tr>\n",
       "      <th>4</th>\n",
       "      <td>Afghanistan</td>\n",
       "      <td>2015</td>\n",
       "      <td>8.26</td>\n",
       "      <td>4</td>\n",
       "    </tr>\n",
       "  </tbody>\n",
       "</table>\n",
       "</div>"
      ],
      "text/plain": [
       "  Country or Area  Year  Value Value Footnotes\n",
       "0     Afghanistan  2019  17.60               1\n",
       "1     Afghanistan  2018  16.80               2\n",
       "2     Afghanistan  2017  13.50               3\n",
       "3     Afghanistan  2016  11.00               4\n",
       "4     Afghanistan  2015   8.26               4"
      ]
     },
     "execution_count": 1591,
     "metadata": {},
     "output_type": "execute_result"
    }
   ],
   "source": [
    "gdp_and_internet_use.head()"
   ]
  },
  {
   "cell_type": "code",
   "execution_count": 1593,
   "id": "328fa788-99f1-467f-a655-239bc0ceb109",
   "metadata": {},
   "outputs": [
    {
     "data": {
      "text/html": [
       "<div>\n",
       "<style scoped>\n",
       "    .dataframe tbody tr th:only-of-type {\n",
       "        vertical-align: middle;\n",
       "    }\n",
       "\n",
       "    .dataframe tbody tr th {\n",
       "        vertical-align: top;\n",
       "    }\n",
       "\n",
       "    .dataframe thead th {\n",
       "        text-align: right;\n",
       "    }\n",
       "</style>\n",
       "<table border=\"1\" class=\"dataframe\">\n",
       "  <thead>\n",
       "    <tr style=\"text-align: right;\">\n",
       "      <th></th>\n",
       "      <th>Country or Area</th>\n",
       "      <th>Year</th>\n",
       "      <th>Value</th>\n",
       "      <th>Value Footnotes</th>\n",
       "    </tr>\n",
       "  </thead>\n",
       "  <tbody>\n",
       "    <tr>\n",
       "      <th>8214</th>\n",
       "      <td>Zimbabwe</td>\n",
       "      <td>1994</td>\n",
       "      <td>3965.730986</td>\n",
       "      <td>NaN</td>\n",
       "    </tr>\n",
       "    <tr>\n",
       "      <th>8215</th>\n",
       "      <td>Zimbabwe</td>\n",
       "      <td>1993</td>\n",
       "      <td>3634.750494</td>\n",
       "      <td>NaN</td>\n",
       "    </tr>\n",
       "    <tr>\n",
       "      <th>8216</th>\n",
       "      <td>Zimbabwe</td>\n",
       "      <td>1992</td>\n",
       "      <td>3649.891947</td>\n",
       "      <td>NaN</td>\n",
       "    </tr>\n",
       "    <tr>\n",
       "      <th>8217</th>\n",
       "      <td>Zimbabwe</td>\n",
       "      <td>1991</td>\n",
       "      <td>4126.405247</td>\n",
       "      <td>NaN</td>\n",
       "    </tr>\n",
       "    <tr>\n",
       "      <th>8218</th>\n",
       "      <td>Zimbabwe</td>\n",
       "      <td>1990</td>\n",
       "      <td>4013.299059</td>\n",
       "      <td>NaN</td>\n",
       "    </tr>\n",
       "  </tbody>\n",
       "</table>\n",
       "</div>"
      ],
      "text/plain": [
       "     Country or Area  Year        Value Value Footnotes\n",
       "8214        Zimbabwe  1994  3965.730986             NaN\n",
       "8215        Zimbabwe  1993  3634.750494             NaN\n",
       "8216        Zimbabwe  1992  3649.891947             NaN\n",
       "8217        Zimbabwe  1991  4126.405247             NaN\n",
       "8218        Zimbabwe  1990  4013.299059             NaN"
      ]
     },
     "execution_count": 1593,
     "metadata": {},
     "output_type": "execute_result"
    }
   ],
   "source": [
    "gdp_and_internet_use.tail()"
   ]
  },
  {
   "cell_type": "code",
   "execution_count": 1623,
   "id": "b7eb38ae-06cf-470a-b288-d5c8b50e3ad2",
   "metadata": {},
   "outputs": [],
   "source": [
    "gdp_and_internet_use = iu.merge(gdp, on = \"Country\", how=\"inner\")\n",
    "\n"
   ]
  },
  {
   "cell_type": "markdown",
   "id": "ac7a6da4-8ee8-46ab-978b-e26990dbc640",
   "metadata": {},
   "source": [
    "print(gdp_and_internet_use)"
   ]
  },
  {
   "cell_type": "markdown",
   "id": "9532da1e-dc4b-4600-97e4-4bd5e1678dcb",
   "metadata": {},
   "source": [
    "21. Find the three countries with the highest internet users percentage in 2014."
   ]
  },
  {
   "cell_type": "code",
   "execution_count": 1652,
   "id": "74e78a4d-02ca-4019-9da7-49ec951002be",
   "metadata": {},
   "outputs": [
    {
     "data": {
      "text/plain": [
       "<pandas.core.indexing._LocIndexer at 0x25f3bc7fac0>"
      ]
     },
     "execution_count": 1652,
     "metadata": {},
     "output_type": "execute_result"
    }
   ],
   "source": [
    "iu.loc"
   ]
  },
  {
   "cell_type": "code",
   "execution_count": 1710,
   "id": "921e35e0-540d-48ab-a7c7-68c5e87c420d",
   "metadata": {},
   "outputs": [],
   "source": [
    "y2014 = iu.loc[iu['Year'] == '2014']"
   ]
  },
  {
   "cell_type": "code",
   "execution_count": 1720,
   "id": "f16e99eb-4f4e-4564-99ef-ae89d2424c6e",
   "metadata": {},
   "outputs": [
    {
     "data": {
      "text/html": [
       "<div>\n",
       "<style scoped>\n",
       "    .dataframe tbody tr th:only-of-type {\n",
       "        vertical-align: middle;\n",
       "    }\n",
       "\n",
       "    .dataframe tbody tr th {\n",
       "        vertical-align: top;\n",
       "    }\n",
       "\n",
       "    .dataframe thead th {\n",
       "        text-align: right;\n",
       "    }\n",
       "</style>\n",
       "<table border=\"1\" class=\"dataframe\">\n",
       "  <thead>\n",
       "    <tr style=\"text-align: right;\">\n",
       "      <th></th>\n",
       "      <th>Country</th>\n",
       "      <th>Year</th>\n",
       "      <th>Value</th>\n",
       "      <th>Value Footnotes</th>\n",
       "    </tr>\n",
       "  </thead>\n",
       "  <tbody>\n",
       "    <tr>\n",
       "      <th>2592</th>\n",
       "      <td>Iceland</td>\n",
       "      <td>2014</td>\n",
       "      <td>98.158</td>\n",
       "      <td>NaN</td>\n",
       "    </tr>\n",
       "    <tr>\n",
       "      <th>1893</th>\n",
       "      <td>Falkland (Malvinas) Islands</td>\n",
       "      <td>2014</td>\n",
       "      <td>97.600</td>\n",
       "      <td>4</td>\n",
       "    </tr>\n",
       "    <tr>\n",
       "      <th>602</th>\n",
       "      <td>Bermuda</td>\n",
       "      <td>2014</td>\n",
       "      <td>96.800</td>\n",
       "      <td>4</td>\n",
       "    </tr>\n",
       "  </tbody>\n",
       "</table>\n",
       "</div>"
      ],
      "text/plain": [
       "                          Country  Year   Value Value Footnotes\n",
       "2592                      Iceland  2014  98.158             NaN\n",
       "1893  Falkland (Malvinas) Islands  2014  97.600               4\n",
       "602                       Bermuda  2014  96.800               4"
      ]
     },
     "execution_count": 1720,
     "metadata": {},
     "output_type": "execute_result"
    }
   ],
   "source": [
    "y2014.sort_values('Value', ascending = False).head(3)"
   ]
  },
  {
   "cell_type": "markdown",
   "id": "a7af5b96-3537-421a-8078-cfbd578fc00b",
   "metadata": {},
   "source": [
    "21. The top 3 countries by internet users percentage in 2014 were Iceland, Falkland(Malvinas) Islands, and Bermuda."
   ]
  },
  {
   "cell_type": "code",
   "execution_count": null,
   "id": "587d06e3-e919-4d91-bc57-a350d1047da9",
   "metadata": {},
   "outputs": [],
   "source": [
    "y2014 = iu.loc[iu['Year'] == '2014']"
   ]
  }
 ],
 "metadata": {
  "kernelspec": {
   "display_name": "Python [conda env:base] *",
   "language": "python",
   "name": "conda-base-py"
  },
  "language_info": {
   "codemirror_mode": {
    "name": "ipython",
    "version": 3
   },
   "file_extension": ".py",
   "mimetype": "text/x-python",
   "name": "python",
   "nbconvert_exporter": "python",
   "pygments_lexer": "ipython3",
   "version": "3.12.7"
  }
 },
 "nbformat": 4,
 "nbformat_minor": 5
}
